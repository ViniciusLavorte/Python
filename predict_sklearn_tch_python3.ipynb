{
 "cells": [
  {
   "cell_type": "markdown",
   "metadata": {},
   "source": [
    "### Importando os dados"
   ]
  },
  {
   "cell_type": "code",
   "execution_count": 1,
   "metadata": {
    "scrolled": true
   },
   "outputs": [],
   "source": [
    "import numpy as np\n",
    "import pandas as pd\n",
    "base = pd.read_csv('sample_train_dataset_tch_pred.csv')"
   ]
  },
  {
   "cell_type": "code",
   "execution_count": 2,
   "metadata": {},
   "outputs": [
    {
     "data": {
      "text/html": [
       "<div>\n",
       "<style scoped>\n",
       "    .dataframe tbody tr th:only-of-type {\n",
       "        vertical-align: middle;\n",
       "    }\n",
       "\n",
       "    .dataframe tbody tr th {\n",
       "        vertical-align: top;\n",
       "    }\n",
       "\n",
       "    .dataframe thead th {\n",
       "        text-align: right;\n",
       "    }\n",
       "</style>\n",
       "<table border=\"1\" class=\"dataframe\">\n",
       "  <thead>\n",
       "    <tr style=\"text-align: right;\">\n",
       "      <th></th>\n",
       "      <th>chavesig</th>\n",
       "      <th>tch</th>\n",
       "      <th>ndvi_a_p05</th>\n",
       "      <th>ncorte</th>\n",
       "      <th>areaesti</th>\n",
       "      <th>linhas_falha_km</th>\n",
       "      <th>chuva_dia_p04</th>\n",
       "      <th>chuva_dia_p12</th>\n",
       "      <th>bal_hidrico_p12</th>\n",
       "      <th>bal_hidrico_p04</th>\n",
       "      <th>espacamento_m</th>\n",
       "    </tr>\n",
       "  </thead>\n",
       "  <tbody>\n",
       "    <tr>\n",
       "      <th>0</th>\n",
       "      <td>94478001</td>\n",
       "      <td>90.160088</td>\n",
       "      <td>0.680882</td>\n",
       "      <td>2.000000</td>\n",
       "      <td>4.56</td>\n",
       "      <td>0.0</td>\n",
       "      <td>1.161527</td>\n",
       "      <td>1.280645</td>\n",
       "      <td>-2.127157</td>\n",
       "      <td>-2.780566</td>\n",
       "      <td>1.400000</td>\n",
       "    </tr>\n",
       "    <tr>\n",
       "      <th>1</th>\n",
       "      <td>90709507</td>\n",
       "      <td>94.617647</td>\n",
       "      <td>0.707574</td>\n",
       "      <td>5.069624</td>\n",
       "      <td>103.70</td>\n",
       "      <td>0.0</td>\n",
       "      <td>8.496693</td>\n",
       "      <td>1.226924</td>\n",
       "      <td>-1.153300</td>\n",
       "      <td>4.153933</td>\n",
       "      <td>1.000000</td>\n",
       "    </tr>\n",
       "    <tr>\n",
       "      <th>2</th>\n",
       "      <td>36217378</td>\n",
       "      <td>63.242697</td>\n",
       "      <td>0.713584</td>\n",
       "      <td>6.000000</td>\n",
       "      <td>8.90</td>\n",
       "      <td>0.0</td>\n",
       "      <td>0.980281</td>\n",
       "      <td>7.037144</td>\n",
       "      <td>2.018537</td>\n",
       "      <td>-1.465973</td>\n",
       "      <td>1.500000</td>\n",
       "    </tr>\n",
       "    <tr>\n",
       "      <th>3</th>\n",
       "      <td>78399001</td>\n",
       "      <td>69.896337</td>\n",
       "      <td>0.722181</td>\n",
       "      <td>3.818791</td>\n",
       "      <td>76.10</td>\n",
       "      <td>0.0</td>\n",
       "      <td>2.672268</td>\n",
       "      <td>0.211750</td>\n",
       "      <td>-3.778909</td>\n",
       "      <td>-1.211574</td>\n",
       "      <td>1.400000</td>\n",
       "    </tr>\n",
       "    <tr>\n",
       "      <th>4</th>\n",
       "      <td>38177001</td>\n",
       "      <td>49.330938</td>\n",
       "      <td>0.740127</td>\n",
       "      <td>3.346908</td>\n",
       "      <td>6.63</td>\n",
       "      <td>0.0</td>\n",
       "      <td>5.116088</td>\n",
       "      <td>5.005593</td>\n",
       "      <td>0.827118</td>\n",
       "      <td>2.353678</td>\n",
       "      <td>1.465309</td>\n",
       "    </tr>\n",
       "  </tbody>\n",
       "</table>\n",
       "</div>"
      ],
      "text/plain": [
       "   chavesig        tch  ndvi_a_p05    ncorte  areaesti  linhas_falha_km  \\\n",
       "0  94478001  90.160088    0.680882  2.000000      4.56              0.0   \n",
       "1  90709507  94.617647    0.707574  5.069624    103.70              0.0   \n",
       "2  36217378  63.242697    0.713584  6.000000      8.90              0.0   \n",
       "3  78399001  69.896337    0.722181  3.818791     76.10              0.0   \n",
       "4  38177001  49.330938    0.740127  3.346908      6.63              0.0   \n",
       "\n",
       "   chuva_dia_p04  chuva_dia_p12  bal_hidrico_p12  bal_hidrico_p04  \\\n",
       "0       1.161527       1.280645        -2.127157        -2.780566   \n",
       "1       8.496693       1.226924        -1.153300         4.153933   \n",
       "2       0.980281       7.037144         2.018537        -1.465973   \n",
       "3       2.672268       0.211750        -3.778909        -1.211574   \n",
       "4       5.116088       5.005593         0.827118         2.353678   \n",
       "\n",
       "   espacamento_m  \n",
       "0       1.400000  \n",
       "1       1.000000  \n",
       "2       1.500000  \n",
       "3       1.400000  \n",
       "4       1.465309  "
      ]
     },
     "execution_count": 2,
     "metadata": {},
     "output_type": "execute_result"
    }
   ],
   "source": [
    "base.head()"
   ]
  },
  {
   "cell_type": "code",
   "execution_count": 3,
   "metadata": {},
   "outputs": [
    {
     "data": {
      "text/plain": [
       "Index(['chavesig', 'tch', 'ndvi_a_p05', 'ncorte', 'areaesti',\n",
       "       'linhas_falha_km', 'chuva_dia_p04', 'chuva_dia_p12', 'bal_hidrico_p12',\n",
       "       'bal_hidrico_p04', 'espacamento_m'],\n",
       "      dtype='object')"
      ]
     },
     "execution_count": 3,
     "metadata": {},
     "output_type": "execute_result"
    }
   ],
   "source": [
    "base.columns"
   ]
  },
  {
   "cell_type": "code",
   "execution_count": 4,
   "metadata": {},
   "outputs": [],
   "source": [
    "colunas = ['tch', 'ndvi_a_p05', 'ncorte', 'areaesti', 'chuva_dia_p04','chuva_dia_p12',\n",
    "       'bal_hidrico_p12', 'bal_hidrico_p04','espacamento_m']"
   ]
  },
  {
   "cell_type": "code",
   "execution_count": 5,
   "metadata": {},
   "outputs": [],
   "source": [
    "base = pd.read_csv('sample_train_dataset_tch_pred.csv', usecols = colunas)"
   ]
  },
  {
   "cell_type": "markdown",
   "metadata": {},
   "source": [
    "### Identificando as variaveis indepedentes (x1,x2,xn)"
   ]
  },
  {
   "cell_type": "code",
   "execution_count": 6,
   "metadata": {},
   "outputs": [],
   "source": [
    "colunas_x =  ['ndvi_a_p05', 'ncorte', 'areaesti', 'chuva_dia_p04','chuva_dia_p12',\n",
    "       'bal_hidrico_p12', 'bal_hidrico_p04','espacamento_m']"
   ]
  },
  {
   "cell_type": "markdown",
   "metadata": {},
   "source": [
    "### Identificando a variavel depedente (y)"
   ]
  },
  {
   "cell_type": "code",
   "execution_count": 7,
   "metadata": {},
   "outputs": [],
   "source": [
    "colunas_y = ['tch']"
   ]
  },
  {
   "cell_type": "markdown",
   "metadata": {},
   "source": [
    "### Normalizando os dados manualmente"
   ]
  },
  {
   "cell_type": "code",
   "execution_count": 23,
   "metadata": {},
   "outputs": [],
   "source": [
    "#Normalizando manualmente em y\n",
    "\n",
    "tch_y = base['tch']\n",
    "\n",
    "#Função para normalizar os dados\n",
    "normalized_y = map(lambda x: (x - tch_y.min())/( tch_y.max()-tch_y.min()), tch_y)\n",
    "#normalized_y = pd.Series(normalized_y) #Passando para Series para desnormalizar\n",
    "#normalized_y.head() #Visualização dos dados normalizados\n",
    "\n",
    "\n",
    "#Função para desnormalizar os dados\n",
    "#unnormalized_y = map(lambda y: tch_y.min() + (y*(tch_y.max() - tch_y.min()) ), normalized_y)\n",
    "#unnormalized_y = pd.Series(unnormalized_y) #Passando para Series"
   ]
  },
  {
   "cell_type": "code",
   "execution_count": 11,
   "metadata": {},
   "outputs": [],
   "source": [
    "# Normalizando manualmente em x\n",
    "\n",
    "tch_x = base.drop('tch', axis =1)\n",
    "df = pd.DataFrame(columns = colunas_x)\n",
    "\n",
    "\n",
    "def normalized_x():\n",
    "    \n",
    "    for cont in range(len(tch_x.columns)):\n",
    "        df.iloc[:,cont] = list(map(lambda x: (x - tch_x.min()[cont])/( tch_x.max()[cont]-tch_x.min()[cont]), tch_x.iloc[:,cont]))\n",
    "        print(df.iloc[:,0])\n",
    "normalized_x()"
   ]
  },
  {
   "cell_type": "markdown",
   "metadata": {},
   "source": [
    "### Normalizando os dados x e y"
   ]
  },
  {
   "cell_type": "code",
   "execution_count": 19,
   "metadata": {},
   "outputs": [],
   "source": [
    "from sklearn.preprocessing import MinMaxScaler\n",
    "x_scaler = MinMaxScaler()\n",
    "base[colunas_x] = x_scaler.fit_transform(base[colunas_x])"
   ]
  },
  {
   "cell_type": "code",
   "execution_count": 21,
   "metadata": {},
   "outputs": [],
   "source": [
    "y_scaler = MinMaxScaler()\n",
    "base[colunas_y] = y_scaler.fit_transform(base[colunas_y])"
   ]
  },
  {
   "cell_type": "markdown",
   "metadata": {},
   "source": [
    "### Armazenando as variaveis indepedentes(x)"
   ]
  },
  {
   "cell_type": "code",
   "execution_count": 24,
   "metadata": {},
   "outputs": [],
   "source": [
    "x = base.drop('tch', axis = 1)"
   ]
  },
  {
   "cell_type": "markdown",
   "metadata": {},
   "source": [
    "### Armazenando a variavel depedente(y)"
   ]
  },
  {
   "cell_type": "code",
   "execution_count": 25,
   "metadata": {},
   "outputs": [],
   "source": [
    "y = base['tch']"
   ]
  },
  {
   "cell_type": "markdown",
   "metadata": {},
   "source": [
    "### Função para separar o dataset em 70% para train e 30% teste"
   ]
  },
  {
   "cell_type": "code",
   "execution_count": 26,
   "metadata": {},
   "outputs": [],
   "source": [
    "from sklearn.model_selection import train_test_split\n",
    "x_train, x_test, y_train, y_test = train_test_split(x, y, test_size=0.3,random_state = 42)"
   ]
  },
  {
   "cell_type": "markdown",
   "metadata": {},
   "source": [
    "### Criando função regressão linear"
   ]
  },
  {
   "cell_type": "markdown",
   "metadata": {},
   "source": [
    "#### Executando treinamento"
   ]
  },
  {
   "cell_type": "code",
   "execution_count": 27,
   "metadata": {},
   "outputs": [],
   "source": [
    "from sklearn.linear_model import LinearRegression\n",
    "regressor = LinearRegression().fit(x_train,y_train)"
   ]
  },
  {
   "cell_type": "markdown",
   "metadata": {},
   "source": [
    "#### Validando manualmente o resultado"
   ]
  },
  {
   "cell_type": "code",
   "execution_count": 28,
   "metadata": {},
   "outputs": [
    {
     "data": {
      "text/plain": [
       "0.3782885700585136"
      ]
     },
     "execution_count": 28,
     "metadata": {},
     "output_type": "execute_result"
    }
   ],
   "source": [
    "# B0\n",
    "interc = regressor.intercept_\n",
    "interc"
   ]
  },
  {
   "cell_type": "code",
   "execution_count": 31,
   "metadata": {},
   "outputs": [
    {
     "data": {
      "text/plain": [
       "array([[ 1.77920466],\n",
       "       [-0.21316789],\n",
       "       [ 0.09779087],\n",
       "       [ 0.06270696],\n",
       "       [-0.22636077],\n",
       "       [ 0.15950572],\n",
       "       [-0.01740596],\n",
       "       [ 0.02789494]])"
      ]
     },
     "execution_count": 31,
     "metadata": {},
     "output_type": "execute_result"
    }
   ],
   "source": [
    "# B(nº)\n",
    "coef = regressor.coef_\n",
    "coef.reshape(-1,1)\n",
    "#coef.shape"
   ]
  },
  {
   "cell_type": "markdown",
   "metadata": {},
   "source": [
    "### Predição manual"
   ]
  },
  {
   "cell_type": "code",
   "execution_count": 35,
   "metadata": {},
   "outputs": [],
   "source": [
    "# Função para predição manual\n",
    "def pred_manual():\n",
    "    predict_manual = []\n",
    "    for c in range(len(x_test)):\n",
    "        val = regressor.intercept_\n",
    "        for t in range(len(x_test.columns)):\n",
    "            val = (x_test.iloc[c][t] * coef[t]) + val\n",
    "        predict_manual.append(val)\n",
    "    predict_manual = np.asanyarray(predict_manual)\n",
    "    predict_manual = predict_manual.reshape(-1,1)\n",
    "    return predict_manual"
   ]
  },
  {
   "cell_type": "code",
   "execution_count": 36,
   "metadata": {},
   "outputs": [
    {
     "name": "stdout",
     "output_type": "stream",
     "text": [
      "[[75.52474604]\n",
      " [78.06187937]\n",
      " [76.85405768]\n",
      " ...\n",
      " [74.54892871]\n",
      " [73.81222366]\n",
      " [76.04377758]]\n"
     ]
    }
   ],
   "source": [
    "pr_manual = pred_manual()\n",
    "pr_manual = y_scaler.inverse_transform(pr_manual)\n",
    "print(pr_manual)"
   ]
  },
  {
   "cell_type": "markdown",
   "metadata": {},
   "source": [
    "### Fazendo predição através do modelo"
   ]
  },
  {
   "cell_type": "code",
   "execution_count": 37,
   "metadata": {},
   "outputs": [],
   "source": [
    "pred = regressor.predict(x_test)"
   ]
  },
  {
   "cell_type": "markdown",
   "metadata": {},
   "source": [
    "### Formatando os dados de predição"
   ]
  },
  {
   "cell_type": "code",
   "execution_count": 38,
   "metadata": {},
   "outputs": [],
   "source": [
    "pred = pred.reshape(-1,1)\n",
    "pr = y_scaler.inverse_transform(pred)"
   ]
  },
  {
   "cell_type": "markdown",
   "metadata": {},
   "source": [
    "### Formatando os dados de y_teste"
   ]
  },
  {
   "cell_type": "code",
   "execution_count": 39,
   "metadata": {},
   "outputs": [],
   "source": [
    "y_teste = y_test.values.reshape(-1,1)\n",
    "y_teste = y_scaler.inverse_transform(y_teste)"
   ]
  },
  {
   "cell_type": "markdown",
   "metadata": {},
   "source": [
    "### Importando as bibliotecas para os erros MAE e MSE"
   ]
  },
  {
   "cell_type": "code",
   "execution_count": 40,
   "metadata": {},
   "outputs": [],
   "source": [
    "from sklearn.metrics import mean_absolute_error, mean_squared_error\n"
   ]
  },
  {
   "cell_type": "markdown",
   "metadata": {},
   "source": [
    "### Mean Absolute Error (MAE)"
   ]
  },
  {
   "cell_type": "code",
   "execution_count": 41,
   "metadata": {},
   "outputs": [
    {
     "data": {
      "text/plain": [
       "16.395652033289952"
      ]
     },
     "execution_count": 41,
     "metadata": {},
     "output_type": "execute_result"
    }
   ],
   "source": [
    "mae = mean_absolute_error(y_teste, pr)\n",
    "mae"
   ]
  },
  {
   "cell_type": "markdown",
   "metadata": {},
   "source": [
    "### Mean Squared Error (MSE)"
   ]
  },
  {
   "cell_type": "code",
   "execution_count": 42,
   "metadata": {},
   "outputs": [
    {
     "data": {
      "text/plain": [
       "404.0661063614837"
      ]
     },
     "execution_count": 42,
     "metadata": {},
     "output_type": "execute_result"
    }
   ],
   "source": [
    "mse = mean_squared_error(y_teste, pr)\n",
    "mse"
   ]
  },
  {
   "cell_type": "markdown",
   "metadata": {},
   "source": [
    "### Plotando o gráfico"
   ]
  },
  {
   "cell_type": "code",
   "execution_count": 44,
   "metadata": {},
   "outputs": [],
   "source": [
    "import matplotlib.pyplot as plt\n",
    "%matplotlib inline"
   ]
  },
  {
   "cell_type": "code",
   "execution_count": 45,
   "metadata": {},
   "outputs": [
    {
     "data": {
      "image/png": "[encoded data removed]",
      "text/plain": [
       "<Figure size 432x288 with 1 Axes>"
      ]
     },
     "metadata": {
      "needs_background": "light"
     },
     "output_type": "display_data"
    }
   ],
   "source": [
    "plt.plot(y_teste, 'o', color ='blue')\n",
    "plt.plot(pr, '*', color = 'red')\n",
    "plt.show()"
   ]
  }
 ],
 "metadata": {
  "kernelspec": {
   "display_name": "Python 3",
   "language": "python",
   "name": "python3"
  },
  "language_info": {
   "codemirror_mode": {
    "name": "ipython",
    "version": 3
   },
   "file_extension": ".py",
   "mimetype": "text/x-python",
   "name": "python",
   "nbconvert_exporter": "python",
   "pygments_lexer": "ipython3",
   "version": "3.6.7"
  }
 },
 "nbformat": 4,
 "nbformat_minor": 4
}
