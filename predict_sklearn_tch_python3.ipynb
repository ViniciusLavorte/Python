{
 "cells": [
  {
   "cell_type": "markdown",
   "metadata": {},
   "source": [
    "# Atividade pedict TCH"
   ]
  },
  {
   "cell_type": "markdown",
   "metadata": {},
   "source": [
    "### Importando os dados"
   ]
  },
  {
   "cell_type": "code",
   "execution_count": 1,
   "metadata": {
    "scrolled": true
   },
   "outputs": [],
   "source": [
    "import numpy as np\n",
    "import pandas as pd\n",
    "base = pd.read_csv('sample_train_dataset_tch_pred.csv')"
   ]
  },
  {
   "cell_type": "code",
   "execution_count": 2,
   "metadata": {},
   "outputs": [
    {
     "data": {
      "text/plain": [
       "Index(['chavesig', 'tch', 'ndvi_a_p05', 'ncorte', 'areaesti',\n",
       "       'linhas_falha_km', 'chuva_dia_p04', 'chuva_dia_p12', 'bal_hidrico_p12',\n",
       "       'bal_hidrico_p04', 'espacamento_m'],\n",
       "      dtype='object')"
      ]
     },
     "execution_count": 2,
     "metadata": {},
     "output_type": "execute_result"
    }
   ],
   "source": [
    "base.columns"
   ]
  },
  {
   "cell_type": "code",
   "execution_count": 3,
   "metadata": {},
   "outputs": [],
   "source": [
    "colunas = ['tch', 'ndvi_a_p05', 'ncorte', 'areaesti','chuva_dia_p04', 'chuva_dia_p12', 'bal_hidrico_p12',\n",
    "       'bal_hidrico_p04', 'espacamento_m']"
   ]
  },
  {
   "cell_type": "code",
   "execution_count": 4,
   "metadata": {},
   "outputs": [],
   "source": [
    "base = pd.read_csv('sample_train_dataset_tch_pred.csv', usecols = colunas)"
   ]
  },
  {
   "cell_type": "markdown",
   "metadata": {},
   "source": [
    "### Identificando as variaveis indepedentes (x1,x2,xn)"
   ]
  },
  {
   "cell_type": "code",
   "execution_count": 5,
   "metadata": {},
   "outputs": [],
   "source": [
    "colunas_x =  ['ndvi_a_p05', 'ncorte', 'areaesti','chuva_dia_p04', 'chuva_dia_p12', 'bal_hidrico_p12',\n",
    "       'bal_hidrico_p04', 'espacamento_m']"
   ]
  },
  {
   "cell_type": "markdown",
   "metadata": {},
   "source": [
    "### Identificando a variavel depedente (y)"
   ]
  },
  {
   "cell_type": "code",
   "execution_count": 6,
   "metadata": {},
   "outputs": [],
   "source": [
    "colunas_y = ['tch']"
   ]
  },
  {
   "cell_type": "markdown",
   "metadata": {},
   "source": [
    "## Normalização dos dados"
   ]
  },
  {
   "cell_type": "markdown",
   "metadata": {},
   "source": [
    "* O **Objetivo** da Normalização é alterar os valores das colunas numéricas do dataset para uma escala comum, sem distorcer as diferenças nos intervalos de valores\n",
    "  * Irei utilizar o método **Reescala** para a normalização\n",
    "    1. **Normalizado = (X - Xmin / Xmin -Xmax)**"
   ]
  },
  {
   "cell_type": "markdown",
   "metadata": {},
   "source": [
    "### Normalizando os dados manualmente"
   ]
  },
  {
   "cell_type": "code",
   "execution_count": 7,
   "metadata": {},
   "outputs": [],
   "source": [
    "#Normalizando manualmente em y\n",
    "\n",
    "tch_y = base['tch']\n",
    "\n",
    "#Função para normalizar os dados\n",
    "normalized_y = map(lambda x: (x - tch_y.min())/( tch_y.max()-tch_y.min()), tch_y)\n",
    "#normalized_y = pd.Series(normalized_y) #Passando para Series para desnormalizar\n",
    "#normalized_y.head() #Visualização dos dados normalizados\n",
    "\n",
    "\n",
    "#Função para desnormalizar os dados\n",
    "#unnormalized_y = map(lambda y: tch_y.min() + (y*(tch_y.max() - tch_y.min()) ), normalized_y)\n",
    "#unnormalized_y = pd.Series(unnormalized_y) #Passando para Series"
   ]
  },
  {
   "cell_type": "code",
   "execution_count": 8,
   "metadata": {},
   "outputs": [],
   "source": [
    "# Normalizando manualmente em x\n",
    "\n",
    "tch_x = base.drop('tch', axis =1)\n",
    "df = pd.DataFrame(columns = colunas_x)\n",
    "\n",
    "\n",
    "def normalized_x():\n",
    "    \n",
    "    for cont in range(len(tch_x.columns)):\n",
    "        df.iloc[:,cont] = list(map(lambda x: (x - tch_x.min()[cont])/( tch_x.max()[cont]-tch_x.min()[cont]), tch_x.iloc[:,cont]))\n",
    "normalized_x()"
   ]
  },
  {
   "cell_type": "markdown",
   "metadata": {},
   "source": [
    "### Normalizando os dados x e y"
   ]
  },
  {
   "cell_type": "code",
   "execution_count": 9,
   "metadata": {},
   "outputs": [],
   "source": [
    "from sklearn.preprocessing import MinMaxScaler\n",
    "x_scaler = MinMaxScaler()\n",
    "base[colunas_x] = x_scaler.fit_transform(base[colunas_x])"
   ]
  },
  {
   "cell_type": "code",
   "execution_count": 10,
   "metadata": {},
   "outputs": [],
   "source": [
    "y_scaler = MinMaxScaler()\n",
    "base[colunas_y] = y_scaler.fit_transform(base[colunas_y])"
   ]
  },
  {
   "cell_type": "markdown",
   "metadata": {},
   "source": [
    "### Armazenando as variaveis indepedentes(x)"
   ]
  },
  {
   "cell_type": "code",
   "execution_count": 11,
   "metadata": {},
   "outputs": [],
   "source": [
    "x = base.drop('tch', axis = 1)"
   ]
  },
  {
   "cell_type": "markdown",
   "metadata": {},
   "source": [
    "### Armazenando a variavel depedente(y)"
   ]
  },
  {
   "cell_type": "code",
   "execution_count": 12,
   "metadata": {},
   "outputs": [],
   "source": [
    "y = base['tch']"
   ]
  },
  {
   "cell_type": "markdown",
   "metadata": {},
   "source": [
    "### Função para separar o dataset em 70% para train e 30% teste"
   ]
  },
  {
   "cell_type": "code",
   "execution_count": 13,
   "metadata": {},
   "outputs": [],
   "source": [
    "from sklearn.model_selection import train_test_split\n",
    "x_train, x_test, y_train, y_test = train_test_split(x, y, test_size=0.3,random_state = 42)"
   ]
  },
  {
   "cell_type": "code",
   "execution_count": 14,
   "metadata": {},
   "outputs": [
    {
     "data": {
      "text/plain": [
       "(1200, 8)"
      ]
     },
     "execution_count": 14,
     "metadata": {},
     "output_type": "execute_result"
    }
   ],
   "source": [
    "x_test.shape"
   ]
  },
  {
   "cell_type": "markdown",
   "metadata": {},
   "source": [
    "### Criando função regressão linear"
   ]
  },
  {
   "cell_type": "markdown",
   "metadata": {},
   "source": [
    "#### Executando treinamento"
   ]
  },
  {
   "cell_type": "code",
   "execution_count": 15,
   "metadata": {},
   "outputs": [],
   "source": [
    "from sklearn.linear_model import LinearRegression\n",
    "regressor = LinearRegression().fit(x_train,y_train)"
   ]
  },
  {
   "cell_type": "markdown",
   "metadata": {},
   "source": [
    "### Visualizando os valores dos pesos"
   ]
  },
  {
   "cell_type": "code",
   "execution_count": 16,
   "metadata": {},
   "outputs": [
    {
     "data": {
      "text/plain": [
       "0.3782885700585136"
      ]
     },
     "execution_count": 16,
     "metadata": {},
     "output_type": "execute_result"
    }
   ],
   "source": [
    "#B0 Intercepta o eixo x\n",
    "interc = regressor.intercept_\n",
    "interc"
   ]
  },
  {
   "cell_type": "code",
   "execution_count": 17,
   "metadata": {},
   "outputs": [
    {
     "data": {
      "text/plain": [
       "array([[ 1.77920466],\n",
       "       [-0.21316789],\n",
       "       [ 0.09779087],\n",
       "       [ 0.06270696],\n",
       "       [-0.22636077],\n",
       "       [ 0.15950572],\n",
       "       [-0.01740596],\n",
       "       [ 0.02789494]])"
      ]
     },
     "execution_count": 17,
     "metadata": {},
     "output_type": "execute_result"
    }
   ],
   "source": [
    "# B(nº) Coeficientes Angular\n",
    "coef = regressor.coef_\n",
    "coef.reshape(-1,1)"
   ]
  },
  {
   "cell_type": "markdown",
   "metadata": {},
   "source": [
    "### Predição manual"
   ]
  },
  {
   "cell_type": "code",
   "execution_count": 18,
   "metadata": {},
   "outputs": [],
   "source": [
    "# Função para predição manual\n",
    "def pred_manual():\n",
    "    predict_manual = []\n",
    "    for c in range(len(x_test)):\n",
    "        val = regressor.intercept_\n",
    "        for t in range(len(x_test.columns)):\n",
    "            val = (x_test.iloc[c][t] * coef[t]) + val\n",
    "        predict_manual.append(val)\n",
    "    predict_manual = np.asanyarray(predict_manual)\n",
    "    predict_manual = predict_manual.reshape(-1,1)\n",
    "    return predict_manual"
   ]
  },
  {
   "cell_type": "code",
   "execution_count": 19,
   "metadata": {},
   "outputs": [
    {
     "name": "stdout",
     "output_type": "stream",
     "text": [
      "[[75.52474604]\n",
      " [78.06187937]\n",
      " [76.85405768]\n",
      " ...\n",
      " [74.54892871]\n",
      " [73.81222366]\n",
      " [76.04377758]]\n"
     ]
    }
   ],
   "source": [
    "pr_manual = pred_manual()\n",
    "pr_manual = y_scaler.inverse_transform(pr_manual)\n",
    "print(pr_manual)"
   ]
  },
  {
   "cell_type": "markdown",
   "metadata": {},
   "source": [
    "### Fazendo predição através do modelo"
   ]
  },
  {
   "cell_type": "code",
   "execution_count": 20,
   "metadata": {},
   "outputs": [],
   "source": [
    "pred = regressor.predict(x_test)"
   ]
  },
  {
   "cell_type": "markdown",
   "metadata": {},
   "source": [
    "### Formatando os dados de predição"
   ]
  },
  {
   "cell_type": "code",
   "execution_count": 21,
   "metadata": {},
   "outputs": [],
   "source": [
    "pred = pred.reshape(-1,1)\n",
    "pr = y_scaler.inverse_transform(pred)"
   ]
  },
  {
   "cell_type": "markdown",
   "metadata": {},
   "source": [
    "### Formatando os dados de y_teste"
   ]
  },
  {
   "cell_type": "code",
   "execution_count": 22,
   "metadata": {},
   "outputs": [],
   "source": [
    "y_teste = y_test.values.reshape(-1,1)\n",
    "y_teste = y_scaler.inverse_transform(y_teste)"
   ]
  },
  {
   "cell_type": "markdown",
   "metadata": {},
   "source": [
    "### Importando as bibliotecas para os erros MAE e MSE"
   ]
  },
  {
   "cell_type": "code",
   "execution_count": 23,
   "metadata": {},
   "outputs": [],
   "source": [
    "from sklearn.metrics import mean_absolute_error, mean_squared_error\n"
   ]
  },
  {
   "cell_type": "markdown",
   "metadata": {},
   "source": [
    "### Mean Absolute Error (MAE)"
   ]
  },
  {
   "cell_type": "code",
   "execution_count": 24,
   "metadata": {},
   "outputs": [
    {
     "data": {
      "text/plain": [
       "16.395652033289952"
      ]
     },
     "execution_count": 24,
     "metadata": {},
     "output_type": "execute_result"
    }
   ],
   "source": [
    "mae = mean_absolute_error(y_teste, pr)\n",
    "mae"
   ]
  },
  {
   "cell_type": "markdown",
   "metadata": {},
   "source": [
    "### Mean Squared Error (MSE)"
   ]
  },
  {
   "cell_type": "code",
   "execution_count": 25,
   "metadata": {},
   "outputs": [
    {
     "data": {
      "text/plain": [
       "404.0661063614837"
      ]
     },
     "execution_count": 25,
     "metadata": {},
     "output_type": "execute_result"
    }
   ],
   "source": [
    "mse = mean_squared_error(y_teste, pr)\n",
    "mse"
   ]
  },
  {
   "cell_type": "markdown",
   "metadata": {},
   "source": [
    "### Validando o modelo pelo coeficiente de determinação\n",
    "* R^2(score) -> O quanto o meu modelo explica a variancia dos dados dependentes a partir dos regressores(variaveis indepedentes)\n"
   ]
  },
  {
   "cell_type": "code",
   "execution_count": 26,
   "metadata": {},
   "outputs": [
    {
     "data": {
      "text/plain": [
       "-3.774044805948429"
      ]
     },
     "execution_count": 26,
     "metadata": {},
     "output_type": "execute_result"
    }
   ],
   "source": [
    "x_teste = x_test.values.reshape(-1,8)\n",
    "x_teste = y_scaler.inverse_transform(x_teste)\n",
    "\n",
    "regressor.score(x_teste,y_teste,sample_weight=None)"
   ]
  },
  {
   "cell_type": "markdown",
   "metadata": {},
   "source": [
    "### Plotando o gráfico"
   ]
  },
  {
   "cell_type": "code",
   "execution_count": 27,
   "metadata": {},
   "outputs": [],
   "source": [
    "import matplotlib.pyplot as plt\n",
    "%matplotlib inline"
   ]
  },
  {
   "cell_type": "code",
   "execution_count": 28,
   "metadata": {},
   "outputs": [
    {
     "data": {
      "image/png": "[encoded data removed]",
      "text/plain": [
       "<Figure size 432x288 with 1 Axes>"
      ]
     },
     "metadata": {
      "needs_background": "light"
     },
     "output_type": "display_data"
    }
   ],
   "source": [
    "plt.plot(y_teste, 'o', color ='blue')\n",
    "plt.plot(pr, '*', color = 'red')\n",
    "plt.legend(['Actual', 'Predict'],loc='center left', bbox_to_anchor=(1, 0.7))\n",
    "plt.ylabel('TCH')\n",
    "plt.xlabel('INDEX')\n",
    "plt.title('Regressão Múltipla: TCH')\n",
    "plt.show()"
   ]
  },
  {
   "cell_type": "markdown",
   "metadata": {},
   "source": [
    "## Predição de Talhão sem colheita"
   ]
  },
  {
   "cell_type": "markdown",
   "metadata": {},
   "source": [
    "#### Importandos os dados para sample_test_dataset_tch_pred"
   ]
  },
  {
   "cell_type": "code",
   "execution_count": 29,
   "metadata": {},
   "outputs": [],
   "source": [
    "base_teste = pd.read_csv('sample_test_dataset_tch_pred.csv')"
   ]
  },
  {
   "cell_type": "code",
   "execution_count": 30,
   "metadata": {},
   "outputs": [
    {
     "data": {
      "text/html": [
       "<div>\n",
       "<style scoped>\n",
       "    .dataframe tbody tr th:only-of-type {\n",
       "        vertical-align: middle;\n",
       "    }\n",
       "\n",
       "    .dataframe tbody tr th {\n",
       "        vertical-align: top;\n",
       "    }\n",
       "\n",
       "    .dataframe thead th {\n",
       "        text-align: right;\n",
       "    }\n",
       "</style>\n",
       "<table border=\"1\" class=\"dataframe\">\n",
       "  <thead>\n",
       "    <tr style=\"text-align: right;\">\n",
       "      <th></th>\n",
       "      <th>Unnamed: 0</th>\n",
       "      <th>chavesig</th>\n",
       "      <th>ndvi_a_p05</th>\n",
       "      <th>ncorte</th>\n",
       "      <th>areaesti</th>\n",
       "      <th>linhas_falha_km</th>\n",
       "      <th>chuva_dia_p04</th>\n",
       "      <th>chuva_dia_p12</th>\n",
       "      <th>bal_hidrico_p12</th>\n",
       "      <th>bal_hidrico_p04</th>\n",
       "      <th>espacamento_m</th>\n",
       "    </tr>\n",
       "  </thead>\n",
       "  <tbody>\n",
       "    <tr>\n",
       "      <th>0</th>\n",
       "      <td>0</td>\n",
       "      <td>36132271</td>\n",
       "      <td>0.776485</td>\n",
       "      <td>5.000000</td>\n",
       "      <td>76.45</td>\n",
       "      <td>0.0</td>\n",
       "      <td>8.039499</td>\n",
       "      <td>0.018295</td>\n",
       "      <td>-3.493576</td>\n",
       "      <td>3.908480</td>\n",
       "      <td>1.40</td>\n",
       "    </tr>\n",
       "    <tr>\n",
       "      <th>1</th>\n",
       "      <td>1</td>\n",
       "      <td>98375001</td>\n",
       "      <td>0.790747</td>\n",
       "      <td>3.000000</td>\n",
       "      <td>23.52</td>\n",
       "      <td>0.0</td>\n",
       "      <td>6.564471</td>\n",
       "      <td>3.707210</td>\n",
       "      <td>-0.801189</td>\n",
       "      <td>4.634858</td>\n",
       "      <td>1.25</td>\n",
       "    </tr>\n",
       "    <tr>\n",
       "      <th>2</th>\n",
       "      <td>2</td>\n",
       "      <td>91573774</td>\n",
       "      <td>0.801163</td>\n",
       "      <td>1.000000</td>\n",
       "      <td>2.94</td>\n",
       "      <td>0.0</td>\n",
       "      <td>5.569557</td>\n",
       "      <td>1.520328</td>\n",
       "      <td>-0.615612</td>\n",
       "      <td>1.634521</td>\n",
       "      <td>1.25</td>\n",
       "    </tr>\n",
       "    <tr>\n",
       "      <th>3</th>\n",
       "      <td>3</td>\n",
       "      <td>9329415</td>\n",
       "      <td>0.648194</td>\n",
       "      <td>5.717728</td>\n",
       "      <td>11.62</td>\n",
       "      <td>0.0</td>\n",
       "      <td>4.059640</td>\n",
       "      <td>3.158646</td>\n",
       "      <td>1.700940</td>\n",
       "      <td>0.255382</td>\n",
       "      <td>1.40</td>\n",
       "    </tr>\n",
       "    <tr>\n",
       "      <th>4</th>\n",
       "      <td>4</td>\n",
       "      <td>9193214</td>\n",
       "      <td>0.718747</td>\n",
       "      <td>2.000000</td>\n",
       "      <td>161.69</td>\n",
       "      <td>0.0</td>\n",
       "      <td>5.943546</td>\n",
       "      <td>6.770313</td>\n",
       "      <td>2.838568</td>\n",
       "      <td>4.121959</td>\n",
       "      <td>1.20</td>\n",
       "    </tr>\n",
       "  </tbody>\n",
       "</table>\n",
       "</div>"
      ],
      "text/plain": [
       "   Unnamed: 0  chavesig  ndvi_a_p05    ncorte  areaesti  linhas_falha_km  \\\n",
       "0           0  36132271    0.776485  5.000000     76.45              0.0   \n",
       "1           1  98375001    0.790747  3.000000     23.52              0.0   \n",
       "2           2  91573774    0.801163  1.000000      2.94              0.0   \n",
       "3           3   9329415    0.648194  5.717728     11.62              0.0   \n",
       "4           4   9193214    0.718747  2.000000    161.69              0.0   \n",
       "\n",
       "   chuva_dia_p04  chuva_dia_p12  bal_hidrico_p12  bal_hidrico_p04  \\\n",
       "0       8.039499       0.018295        -3.493576         3.908480   \n",
       "1       6.564471       3.707210        -0.801189         4.634858   \n",
       "2       5.569557       1.520328        -0.615612         1.634521   \n",
       "3       4.059640       3.158646         1.700940         0.255382   \n",
       "4       5.943546       6.770313         2.838568         4.121959   \n",
       "\n",
       "   espacamento_m  \n",
       "0           1.40  \n",
       "1           1.25  \n",
       "2           1.25  \n",
       "3           1.40  \n",
       "4           1.20  "
      ]
     },
     "execution_count": 30,
     "metadata": {},
     "output_type": "execute_result"
    }
   ],
   "source": [
    "base_teste.head()"
   ]
  },
  {
   "cell_type": "markdown",
   "metadata": {},
   "source": [
    "### Selecionando apenas os dados de x"
   ]
  },
  {
   "cell_type": "code",
   "execution_count": 31,
   "metadata": {},
   "outputs": [],
   "source": [
    "colunas_teste = colunas_x"
   ]
  },
  {
   "cell_type": "markdown",
   "metadata": {},
   "source": [
    "### Lendo dataset novamente apenas com as colunas para x_test"
   ]
  },
  {
   "cell_type": "code",
   "execution_count": 32,
   "metadata": {},
   "outputs": [],
   "source": [
    "colunas_teste = pd.read_csv('sample_test_dataset_tch_pred.csv', usecols = colunas_teste)"
   ]
  },
  {
   "cell_type": "markdown",
   "metadata": {},
   "source": [
    "### Fazendo a normalização dos meus dados"
   ]
  },
  {
   "cell_type": "code",
   "execution_count": 33,
   "metadata": {},
   "outputs": [],
   "source": [
    "from sklearn.preprocessing import MinMaxScaler\n",
    "x_scaler_teste = MinMaxScaler()\n",
    "colunas_teste = x_scaler_teste.fit_transform(colunas_teste)"
   ]
  },
  {
   "cell_type": "markdown",
   "metadata": {},
   "source": [
    "### Fazendo a predição utilizando as colunas de teste"
   ]
  },
  {
   "cell_type": "code",
   "execution_count": 34,
   "metadata": {},
   "outputs": [],
   "source": [
    "predict_test = regressor.predict(colunas_teste)"
   ]
  },
  {
   "cell_type": "markdown",
   "metadata": {},
   "source": [
    "### Invertendo a normalização, voltando a metrica do dataset dado"
   ]
  },
  {
   "cell_type": "code",
   "execution_count": 35,
   "metadata": {},
   "outputs": [],
   "source": [
    "predict_test = predict_test.reshape(-1,1)\n",
    "y_col_test =y_scaler.inverse_transform(predict_test)"
   ]
  },
  {
   "cell_type": "markdown",
   "metadata": {},
   "source": [
    "### Acrescentando a coluna 'chavesig' como solicitada no enunciado"
   ]
  },
  {
   "cell_type": "code",
   "execution_count": 36,
   "metadata": {},
   "outputs": [],
   "source": [
    "resultado = pd.DataFrame(y_col_test)"
   ]
  },
  {
   "cell_type": "code",
   "execution_count": 37,
   "metadata": {},
   "outputs": [],
   "source": [
    "resultado['chavesig'] = base_teste['chavesig']\n",
    "resultado.columns = ['tch','chavesig']"
   ]
  },
  {
   "cell_type": "code",
   "execution_count": 38,
   "metadata": {},
   "outputs": [],
   "source": [
    "resultado = resultado[['chavesig','tch']]"
   ]
  },
  {
   "cell_type": "markdown",
   "metadata": {},
   "source": [
    "### Salvando o resultando em um arquivo xlsx"
   ]
  },
  {
   "cell_type": "code",
   "execution_count": 39,
   "metadata": {},
   "outputs": [],
   "source": [
    "excel = pd.ExcelWriter('Predict_Tch.xlsx', engine='xlsxwriter')\n",
    "resultado.to_excel(excel, sheet_name='TCH')\n",
    "excel.save()"
   ]
  }
 ],
 "metadata": {
  "kernelspec": {
   "display_name": "Python 2",
   "language": "python",
   "name": "python2"
  },
  "language_info": {
   "codemirror_mode": {
    "name": "ipython",
    "version": 2
   },
   "file_extension": ".py",
   "mimetype": "text/x-python",
   "name": "python",
   "nbconvert_exporter": "python",
   "pygments_lexer": "ipython2",
   "version": "2.7.15rc1"
  }
 },
 "nbformat": 4,
 "nbformat_minor": 4
}
