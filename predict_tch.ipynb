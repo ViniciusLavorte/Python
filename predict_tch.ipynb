{
 "cells": [
  {
   "cell_type": "markdown",
   "metadata": {},
   "source": [
    "O dataset contém dados de 4000 talhões. Um talhão é uma área de cana plantada, como se fosse um \"quarteirão\" de cana com tamanho arbitrário.\n",
    "Os atributos são:\n",
    "* chavesig: identificador do talhao\n",
    "* tch: toneladas de cana por hectare (o que queremos prever)\n",
    "* ndvi_a_p05: indice de vegetação no 5º mês após o plantio\n",
    "* ncorte: número do corte\n",
    "* linhas_falha_km: quantos km de falhas nas linhas de cana do talhao\n",
    "* chuva_dia_pN: média de chuva por dia no mes N antes da colheita\n",
    "* bal_hidrico_pN: balanço hídrico no mes N antes da colheita\n",
    "* espacamento_m: espacamento entre as linhas de cana\n",
    "* area_esti: area estimada do talhaoa\n",
    "\n",
    "Com base nestas informações, construa um modelo capaz de prever, a quantidade de tch que sera colhida com base nos atributos que julgar necessários.\n",
    "É simples, não precisa de nada complicado. Quero ver como vc pensa em fazer isso e como apresenta a linha de raciocínio. O pipeline de trabalho é bem similar ao que tem no script de casas, mas é do zero agora."
   ]
  },
  {
   "cell_type": "markdown",
   "metadata": {},
   "source": [
    "Importando os dados"
   ]
  },
  {
   "cell_type": "code",
   "execution_count": null,
   "metadata": {},
   "outputs": [],
   "source": [
    "import pandas as pd\n",
    "import matplotlib.pyplot as plt\n",
    "base = pd.read_csv('sample_train_dataset_tch_pred.csv')"
   ]
  },
  {
   "cell_type": "code",
   "execution_count": null,
   "metadata": {},
   "outputs": [],
   "source": [
    "# Apresentando o cabeçalho dos dados\n",
    "base.head()"
   ]
  },
  {
   "cell_type": "code",
   "execution_count": null,
   "metadata": {},
   "outputs": [],
   "source": [
    "#Analisando o número de linhas e colunas\n",
    "base.shape"
   ]
  },
  {
   "cell_type": "code",
   "execution_count": null,
   "metadata": {},
   "outputs": [],
   "source": [
    "# Verificando se há linhas null no dataset\n",
    "base.isnull().sum()"
   ]
  },
  {
   "cell_type": "code",
   "execution_count": null,
   "metadata": {},
   "outputs": [],
   "source": [
    "#descreve meus dados atraves de metricas\n",
    "base.describe()"
   ]
  },
  {
   "cell_type": "code",
   "execution_count": null,
   "metadata": {},
   "outputs": [],
   "source": [
    "#Lista com as colunas do dataset\n",
    "base.columns"
   ]
  },
  {
   "attachments": {
    "image.png": {
     "image/png": "[encoded data removed]"
    }
   },
   "cell_type": "markdown",
   "metadata": {},
   "source": [
    "### Utilizando o método Regressão Múltipla\n",
    "![image.png](attachment:image.png)"
   ]
  },
  {
   "cell_type": "markdown",
   "metadata": {},
   "source": [
    "### Selecionando apenas as colunas necessárias do dataset"
   ]
  },
  {
   "cell_type": "code",
   "execution_count": null,
   "metadata": {},
   "outputs": [],
   "source": [
    "colunas = ['tch','ndvi_a_p05', 'ncorte', 'areaesti','linhas_falha_km', 'chuva_dia_p04', 'chuva_dia_p12',\n",
    "       'bal_hidrico_p12', 'bal_hidrico_p04', 'espacamento_m']"
   ]
  },
  {
   "cell_type": "markdown",
   "metadata": {},
   "source": [
    "### Selecionando as variáveis independentes X"
   ]
  },
  {
   "cell_type": "code",
   "execution_count": null,
   "metadata": {},
   "outputs": [],
   "source": [
    "colunas_x = ['ndvi_a_p05', 'ncorte', 'areaesti','linhas_falha_km', 'chuva_dia_p04', 'chuva_dia_p12',\n",
    "       'bal_hidrico_p12', 'bal_hidrico_p04', 'espacamento_m']"
   ]
  },
  {
   "cell_type": "code",
   "execution_count": null,
   "metadata": {},
   "outputs": [],
   "source": [
    "# Chamando o arquivo csv apenas com as colunas necessarias\n",
    "base = pd.read_csv('sample_train_dataset_tch_pred.csv', usecols = colunas)\n"
   ]
  },
  {
   "cell_type": "markdown",
   "metadata": {},
   "source": [
    "### Normalizando os dados(alterando os dados para uma escala comum)"
   ]
  },
  {
   "cell_type": "code",
   "execution_count": null,
   "metadata": {},
   "outputs": [],
   "source": [
    "#importando biblioteca para normalizar os dados\n",
    "from sklearn.preprocessing import MinMaxScaler"
   ]
  },
  {
   "cell_type": "code",
   "execution_count": null,
   "metadata": {},
   "outputs": [],
   "source": [
    "# Normalizando os dados para as variaveis indepedentes\n",
    "x_scal = MinMaxScaler()\n",
    "base[['ndvi_a_p05', 'ncorte', 'areaesti','linhas_falha_km', 'chuva_dia_p04', 'chuva_dia_p12',\n",
    "       'bal_hidrico_p12', 'bal_hidrico_p04', 'espacamento_m']] = x_scal.fit_transform(base[['ndvi_a_p05', 'ncorte', 'areaesti','linhas_falha_km', 'chuva_dia_p04', 'chuva_dia_p12',\n",
    "       'bal_hidrico_p12', 'bal_hidrico_p04', 'espacamento_m']])"
   ]
  },
  {
   "cell_type": "code",
   "execution_count": null,
   "metadata": {},
   "outputs": [],
   "source": [
    "# Normalizando as variaveis para y\n",
    "y_scal = MinMaxScaler()\n",
    "base[['tch']] = y_scal.fit_transform(base[['tch']])\n"
   ]
  },
  {
   "cell_type": "code",
   "execution_count": null,
   "metadata": {},
   "outputs": [],
   "source": [
    "# y recebendo a variavel depedente tch\n",
    "y = base['tch']"
   ]
  },
  {
   "cell_type": "code",
   "execution_count": null,
   "metadata": {},
   "outputs": [],
   "source": [
    "# x recebendo a lista com as variaveis indepedentes de x\n",
    "x = base.drop('tch', axis = 1)"
   ]
  },
  {
   "cell_type": "code",
   "execution_count": null,
   "metadata": {},
   "outputs": [],
   "source": [
    "#featues colunas\n",
    "import tensorflow as tf\n",
    "colunas_x = [tf.feature_column.numeric_column(key = c) for c in colunas_x]"
   ]
  },
  {
   "cell_type": "code",
   "execution_count": null,
   "metadata": {},
   "outputs": [],
   "source": [
    "#Dividindo a base de dados em teste e train para o modelo\n",
    "from sklearn.model_selection import train_test_split\n",
    "x_treinamento, x_teste, y_treinamento, y_teste = train_test_split(x,y, test_size = 0.3)"
   ]
  },
  {
   "cell_type": "code",
   "execution_count": null,
   "metadata": {},
   "outputs": [],
   "source": [
    "# Function train\n",
    "function_treinamento = tf.estimator.inputs.pandas_input_fn(x = x_treinamento, y = y_treinamento, batch_size = 32, num_epochs = None, shuffle=True)"
   ]
  },
  {
   "cell_type": "code",
   "execution_count": null,
   "metadata": {},
   "outputs": [],
   "source": [
    "# Function test\n",
    "function_teste = tf.estimator.inputs.pandas_input_fn(x = x_teste, y = y_teste, batch_size =32, num_epochs=1000, shuffle=False)"
   ]
  },
  {
   "cell_type": "code",
   "execution_count": null,
   "metadata": {},
   "outputs": [],
   "source": [
    "# Criando modelo de regressao\n",
    "regressor = tf.estimator.LinearRegressor(feature_columns=colunas_x)\n"
   ]
  },
  {
   "cell_type": "code",
   "execution_count": null,
   "metadata": {},
   "outputs": [],
   "source": [
    "# training model\n",
    "regressor.train(input_fn=function_treinamento, steps = 10000)"
   ]
  },
  {
   "cell_type": "code",
   "execution_count": null,
   "metadata": {},
   "outputs": [],
   "source": [
    "metricas_treinamento = regressor.evaluate(input_fn=function_treinamento,steps=10000)"
   ]
  },
  {
   "cell_type": "code",
   "execution_count": null,
   "metadata": {},
   "outputs": [],
   "source": [
    "metricas_teste = regressor.evaluate(input_fn=function_teste,steps=10000)"
   ]
  },
  {
   "cell_type": "code",
   "execution_count": null,
   "metadata": {},
   "outputs": [],
   "source": [
    "# Metricas sem escalonamento\n",
    "metricas_treinamento"
   ]
  },
  {
   "cell_type": "code",
   "execution_count": null,
   "metadata": {},
   "outputs": [],
   "source": [
    "# Metricas sem escalonamento\n",
    "metricas_teste"
   ]
  },
  {
   "cell_type": "code",
   "execution_count": null,
   "metadata": {},
   "outputs": [],
   "source": [
    "funcao_previsao = tf.estimator.inputs.pandas_input_fn(x = x_teste,shuffle=True)"
   ]
  },
  {
   "cell_type": "code",
   "execution_count": null,
   "metadata": {},
   "outputs": [],
   "source": [
    "previsao = regressor.predict(input_fn=funcao_previsao)"
   ]
  },
  {
   "cell_type": "code",
   "execution_count": null,
   "metadata": {},
   "outputs": [],
   "source": [
    "list(previsao)"
   ]
  },
  {
   "cell_type": "code",
   "execution_count": null,
   "metadata": {},
   "outputs": [],
   "source": [
    "# Colocando as predicts numa lista\n",
    "val_predict =[]\n",
    "for p in regressor.predict(input_fn=funcao_previsao):\n",
    "    val_predict.append(p['predictions'])"
   ]
  },
  {
   "cell_type": "code",
   "execution_count": null,
   "metadata": {},
   "outputs": [],
   "source": [
    "pr = y_scal.inverse_transform(val_predict)"
   ]
  },
  {
   "cell_type": "code",
   "execution_count": null,
   "metadata": {},
   "outputs": [],
   "source": [
    "y_tes = y_teste.values.reshape(-1,1)\n",
    "y_t = y_scal.inverse_transform(y_tes)"
   ]
  },
  {
   "cell_type": "code",
   "execution_count": null,
   "metadata": {},
   "outputs": [],
   "source": [
    "len(val_predict)#list\n",
    "\n",
    "import numpy as np \n",
    "val_predict = np.array(val_predict).reshape(-1,1)"
   ]
  },
  {
   "cell_type": "code",
   "execution_count": null,
   "metadata": {},
   "outputs": [],
   "source": [
    "# Utilizando mean absolute error para calcular o erro entre y_teste e o predict\n",
    "from sklearn.metrics import mean_absolute_error\n",
    "mae = mean_absolute_error(y_t,pr)"
   ]
  },
  {
   "cell_type": "code",
   "execution_count": null,
   "metadata": {},
   "outputs": [],
   "source": [
    "mae"
   ]
  },
  {
   "cell_type": "code",
   "execution_count": null,
   "metadata": {},
   "outputs": [],
   "source": [
    "plt.plot(y_t, 'o')\n",
    "plt.plot(pr, '*', color = 'red')\n",
    "plt.show()"
   ]
  }
 ],
 "metadata": {
  "kernelspec": {
   "display_name": "Python 2",
   "language": "python",
   "name": "python2"
  },
  "language_info": {
   "codemirror_mode": {
    "name": "ipython",
    "version": 2
   },
   "file_extension": ".py",
   "mimetype": "text/x-python",
   "name": "python",
   "nbconvert_exporter": "python",
   "pygments_lexer": "ipython2",
   "version": "2.7.15rc1"
  }
 },
 "nbformat": 4,
 "nbformat_minor": 2
}
