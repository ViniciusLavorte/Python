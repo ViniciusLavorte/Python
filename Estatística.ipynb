{
 "cells": [
  {
   "cell_type": "markdown",
   "metadata": {},
   "source": [
    "### Têndencia Central: Noção onde os nossos dados estão centrados\n",
    "##### Media  -> É a soma dos nossos dados dividido pela sua contagem\n",
    "Se possui dois pontos de dados, a média é o ponto no meio do caminho entre eles\n"
   ]
  },
  {
   "cell_type": "code",
   "execution_count": null,
   "metadata": {},
   "outputs": [],
   "source": [
    "def mean():\n",
    "    return sum(x)/len(x)"
   ]
  },
  {
   "cell_type": "markdown",
   "metadata": {},
   "source": [
    "#####  Mediana -> É o valor maior do meio, ou a media dos dois valores que estiverem no meio"
   ]
  },
  {
   "cell_type": "code",
   "execution_count": 2,
   "metadata": {},
   "outputs": [],
   "source": [
    "def median(v):\n",
    "    '''Encontrar o valor mais ao meio de v'''\n",
    "    n = len(v)\n",
    "    sorted_v = sorted(v)\n",
    "    midpoint = n//2\n",
    "    \n",
    "    if n%2 == 1:\n",
    "        #se for impar retorna o vlor do meio\n",
    "        return sorted_v(mindpoint)\n",
    "    else:\n",
    "        # se for par retorna a media dos dois valores do meio\n",
    "        lo = mindpoint -1\n",
    "        hi = mindpoint\n",
    "        return (sorted_v[lo] + sorted_v[hi]) / 2"
   ]
  },
  {
   "cell_type": "markdown",
   "metadata": {},
   "source": [
    "##### Quantil -> Representa o valor abaixo do qual a uma porcentagem de dados se encontram"
   ]
  },
  {
   "cell_type": "code",
   "execution_count": 4,
   "metadata": {},
   "outputs": [],
   "source": [
    "def quantile(x, p):\n",
    "    '''Retorna o vaor percentual p-ésimo em x'''\n",
    "    p_index = into(p * len(x))\n",
    "    return sorted(x)[p_index]\n",
    "#quantile(num_friends, 0.10)"
   ]
  },
  {
   "cell_type": "markdown",
   "metadata": {},
   "source": [
    "##### Moda -> Os valores mais comuns"
   ]
  },
  {
   "cell_type": "code",
   "execution_count": 5,
   "metadata": {},
   "outputs": [],
   "source": [
    "def moda(x):\n",
    "    \"retorna uma lista, pode haver mais de uma moda\"\n",
    "    counts = Counter(x)\n",
    "    max_count = max(counts.values())\n",
    "    return [x_i for x_i, count in counts.iteritems() if count == max_count]\n",
    "\n",
    "#mode(num_friends)"
   ]
  },
  {
   "cell_type": "markdown",
   "metadata": {},
   "source": [
    "## Dispersão: Medida de como os nossos dados estão centrados"
   ]
  },
  {
   "cell_type": "markdown",
   "metadata": {},
   "source": [
    "#### Amplitude -> Diferença do maior valor do conjunto para o menor valor"
   ]
  },
  {
   "cell_type": "code",
   "execution_count": 6,
   "metadata": {},
   "outputs": [],
   "source": [
    "def data_range(x):\n",
    "    return (max(x) - min(x))\n",
    "#data_range(num_friends)"
   ]
  },
  {
   "cell_type": "markdown",
   "metadata": {},
   "source": [
    "#### Variança -> Mostra a dispersão do quão distante os dados estão do valor central(média), quanto menor o valor da variança menor é a dispersão dos dados em relação a média\n",
    "\n",
    "Var. amostral = (xn -média)^2/n-1\n",
    "\n",
    "Var. populacional = (xn -média)^2/n"
   ]
  },
  {
   "cell_type": "code",
   "execution_count": 3,
   "metadata": {},
   "outputs": [],
   "source": [
    "def de_mean(x):\n",
    "    '''desloca x ao subtrair sua media'''\n",
    "    x_bar = mean(x)\n",
    "    return [x_i - x_bar for x_i in x]\n",
    "\n",
    "def variance(x):\n",
    "    '''presume que x têm pelo menos dois elementos'''\n",
    "    n = len(x)\n",
    "    deviation = de_mean(x)\n",
    "    return sum_of_squares(deviation) / (n-1)\n",
    "#varianca(num_friends)"
   ]
  },
  {
   "cell_type": "markdown",
   "metadata": {},
   "source": [
    "#### Desvio padrão -> Identifica o \"erro\" no conjunto de dados. O quao confiavel é o valor dos dados\n",
    "O desvio padrão é a raiz quadrada da variança\n",
    "\n",
    "dp = sqrt(var)"
   ]
  },
  {
   "cell_type": "code",
   "execution_count": 1,
   "metadata": {},
   "outputs": [],
   "source": [
    "def standard_deviation(x):\n",
    "    return math.sqrt(variance(x))\n",
    "#standard_deviation(x)"
   ]
  },
  {
   "cell_type": "markdown",
   "metadata": {},
   "source": [
    "#### Correlação: Investiga a relação entre duas métricas\n",
    "Covariança mede como duas variaveis variam em conjunto de suas medias. Uma covariança perto de zero significa que tal relação não existe\n"
   ]
  },
  {
   "cell_type": "code",
   "execution_count": 4,
   "metadata": {},
   "outputs": [],
   "source": [
    "def covariance(x,y):\n",
    "    n = len(x)\n",
    "    return dot(do_mean(x), do_mean(y)) / (n-1)\n",
    "#covariance(num_friends, daily_minutes)\n",
    "\n",
    "#É mais comum considerar a correlação, que divide os desvios padroes das duas variaveis\n",
    "\n",
    "def correlation(x,y):\n",
    "    stdev_x = standard_deviation(x)\n",
    "    stdev_y = standard_deviation(y)\n",
    "    if stdev_x > 0 and stdev_y > 0:\n",
    "        return covarience(x,y) / stdev_x /stdev_y\n",
    "    else:\n",
    "        return 0 # se não houver amplitude a correlação é zero\n",
    "    \n",
    "# Não possui unidade e sempre permanece entre -1 (anticorrelação perfeita) e 1 correlação perfeita"
   ]
  },
  {
   "cell_type": "markdown",
   "metadata": {},
   "source": [
    "#### Correlação e Causalidade: Se x e y possuem uma forte correlação, isso talvez significa que x causa y, e que y causa em x e que cada um causa no outro"
   ]
  },
  {
   "cell_type": "markdown",
   "metadata": {},
   "source": [
    "#### Paradoxo de Simpson: Correlações podem ser enganosas quando as varíaveis de consfusão são ignoradas"
   ]
  }
 ],
 "metadata": {
  "kernelspec": {
   "display_name": "Python 3",
   "language": "python",
   "name": "python3"
  },
  "language_info": {
   "codemirror_mode": {
    "name": "ipython",
    "version": 3
   },
   "file_extension": ".py",
   "mimetype": "text/x-python",
   "name": "python",
   "nbconvert_exporter": "python",
   "pygments_lexer": "ipython3",
   "version": "3.6.9"
  }
 },
 "nbformat": 4,
 "nbformat_minor": 4
}
