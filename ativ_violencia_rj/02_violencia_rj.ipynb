{
 "cells": [
  {
   "cell_type": "markdown",
   "metadata": {
    "colab_type": "text",
    "id": "-eFQZydM9O9J"
   },
   "source": [
    "---\n",
    "\n",
    "* Importar o pandas e importar a base de dados da Polícia Militar do Rio de Janeiro sobre a violência\n",
    "  * O arquivo `csv` se encontra no endereço abaixo:\n",
    "    * https://raw.githubusercontent.com/carlosfab/curso_data_science_na_pratica/master/modulo_02/violencia_rio.csv\n",
    "\n",
    "  * Este é o site oficial, do Governo do Estado do Rio de Janeiro:\n",
    "    * http://www.ispdados.rj.gov.br/estatistica.html\n",
    "    \n",
    "  * Um *dashboard* interativo:\n",
    "    * http://www.ispvisualizacao.rj.gov.br/index.html\n",
    "  \n",
    "---"
   ]
  },
  {
   "cell_type": "markdown",
   "metadata": {
    "colab_type": "text",
    "id": "7vh4at0l90nr"
   },
   "source": [
    "### Importando os dados\n",
    "\n",
    "Importe os dados"
   ]
  },
  {
   "cell_type": "code",
   "execution_count": 1,
   "metadata": {
    "colab": {},
    "colab_type": "code",
    "id": "CYLNme_OCX_R"
   },
   "outputs": [],
   "source": [
    "import pandas as pd\n",
    "import matplotlib.pyplot as plt"
   ]
  },
  {
   "cell_type": "markdown",
   "metadata": {},
   "source": [
    "#### Importando os dados com a biblioteca pandas."
   ]
  },
  {
   "cell_type": "code",
   "execution_count": 2,
   "metadata": {},
   "outputs": [],
   "source": [
    "data = pd.read_csv('https://raw.githubusercontent.com/carlosfab/curso_data_science_na_pratica/master/modulo_02/violencia_rio.csv')"
   ]
  },
  {
   "cell_type": "markdown",
   "metadata": {},
   "source": [
    "#### Visualizando os primeiros dados do conjunto"
   ]
  },
  {
   "cell_type": "code",
   "execution_count": 34,
   "metadata": {},
   "outputs": [
    {
     "data": {
      "text/html": [
       "<div>\n",
       "<style scoped>\n",
       "    .dataframe tbody tr th:only-of-type {\n",
       "        vertical-align: middle;\n",
       "    }\n",
       "\n",
       "    .dataframe tbody tr th {\n",
       "        vertical-align: top;\n",
       "    }\n",
       "\n",
       "    .dataframe thead th {\n",
       "        text-align: right;\n",
       "    }\n",
       "</style>\n",
       "<table border=\"1\" class=\"dataframe\">\n",
       "  <thead>\n",
       "    <tr style=\"text-align: right;\">\n",
       "      <th></th>\n",
       "      <th>vano</th>\n",
       "      <th>mes</th>\n",
       "      <th>hom_doloso</th>\n",
       "      <th>lesao_corp_morte</th>\n",
       "      <th>latrocinio</th>\n",
       "      <th>hom_por_interv_policial</th>\n",
       "      <th>tentat_hom</th>\n",
       "      <th>lesao_corp_dolosa</th>\n",
       "      <th>estupro</th>\n",
       "      <th>hom_culposo</th>\n",
       "      <th>...</th>\n",
       "      <th>pessoas_desaparecidas</th>\n",
       "      <th>encontro_cadaver</th>\n",
       "      <th>encontro_ossada</th>\n",
       "      <th>pol_militares_mortos_serv</th>\n",
       "      <th>pol_civis_mortos_serv</th>\n",
       "      <th>indicador_letalidade</th>\n",
       "      <th>indicador_roubo_rua</th>\n",
       "      <th>indicador_roubo_veic</th>\n",
       "      <th>registro_ocorrencias</th>\n",
       "      <th>fase</th>\n",
       "    </tr>\n",
       "  </thead>\n",
       "  <tbody>\n",
       "    <tr>\n",
       "      <th>0</th>\n",
       "      <td>1991</td>\n",
       "      <td>1</td>\n",
       "      <td>657</td>\n",
       "      <td>NaN</td>\n",
       "      <td>15</td>\n",
       "      <td>NaN</td>\n",
       "      <td>162</td>\n",
       "      <td>3051</td>\n",
       "      <td>NaN</td>\n",
       "      <td>NaN</td>\n",
       "      <td>...</td>\n",
       "      <td>NaN</td>\n",
       "      <td>217</td>\n",
       "      <td>NaN</td>\n",
       "      <td>NaN</td>\n",
       "      <td>NaN</td>\n",
       "      <td>672</td>\n",
       "      <td>1348</td>\n",
       "      <td>1174</td>\n",
       "      <td>NaN</td>\n",
       "      <td>3</td>\n",
       "    </tr>\n",
       "    <tr>\n",
       "      <th>1</th>\n",
       "      <td>1991</td>\n",
       "      <td>2</td>\n",
       "      <td>732</td>\n",
       "      <td>NaN</td>\n",
       "      <td>17</td>\n",
       "      <td>NaN</td>\n",
       "      <td>175</td>\n",
       "      <td>3421</td>\n",
       "      <td>NaN</td>\n",
       "      <td>NaN</td>\n",
       "      <td>...</td>\n",
       "      <td>NaN</td>\n",
       "      <td>209</td>\n",
       "      <td>NaN</td>\n",
       "      <td>NaN</td>\n",
       "      <td>NaN</td>\n",
       "      <td>749</td>\n",
       "      <td>1395</td>\n",
       "      <td>1097</td>\n",
       "      <td>NaN</td>\n",
       "      <td>3</td>\n",
       "    </tr>\n",
       "    <tr>\n",
       "      <th>2</th>\n",
       "      <td>1991</td>\n",
       "      <td>3</td>\n",
       "      <td>713</td>\n",
       "      <td>NaN</td>\n",
       "      <td>25</td>\n",
       "      <td>NaN</td>\n",
       "      <td>216</td>\n",
       "      <td>3613</td>\n",
       "      <td>NaN</td>\n",
       "      <td>NaN</td>\n",
       "      <td>...</td>\n",
       "      <td>NaN</td>\n",
       "      <td>188</td>\n",
       "      <td>NaN</td>\n",
       "      <td>NaN</td>\n",
       "      <td>NaN</td>\n",
       "      <td>738</td>\n",
       "      <td>1385</td>\n",
       "      <td>1265</td>\n",
       "      <td>NaN</td>\n",
       "      <td>3</td>\n",
       "    </tr>\n",
       "    <tr>\n",
       "      <th>3</th>\n",
       "      <td>1991</td>\n",
       "      <td>4</td>\n",
       "      <td>634</td>\n",
       "      <td>NaN</td>\n",
       "      <td>20</td>\n",
       "      <td>NaN</td>\n",
       "      <td>200</td>\n",
       "      <td>3211</td>\n",
       "      <td>NaN</td>\n",
       "      <td>NaN</td>\n",
       "      <td>...</td>\n",
       "      <td>NaN</td>\n",
       "      <td>140</td>\n",
       "      <td>NaN</td>\n",
       "      <td>NaN</td>\n",
       "      <td>NaN</td>\n",
       "      <td>654</td>\n",
       "      <td>1540</td>\n",
       "      <td>1415</td>\n",
       "      <td>NaN</td>\n",
       "      <td>3</td>\n",
       "    </tr>\n",
       "    <tr>\n",
       "      <th>4</th>\n",
       "      <td>1991</td>\n",
       "      <td>5</td>\n",
       "      <td>650</td>\n",
       "      <td>NaN</td>\n",
       "      <td>20</td>\n",
       "      <td>NaN</td>\n",
       "      <td>146</td>\n",
       "      <td>3051</td>\n",
       "      <td>NaN</td>\n",
       "      <td>NaN</td>\n",
       "      <td>...</td>\n",
       "      <td>NaN</td>\n",
       "      <td>78</td>\n",
       "      <td>NaN</td>\n",
       "      <td>NaN</td>\n",
       "      <td>NaN</td>\n",
       "      <td>670</td>\n",
       "      <td>1266</td>\n",
       "      <td>1449</td>\n",
       "      <td>NaN</td>\n",
       "      <td>3</td>\n",
       "    </tr>\n",
       "  </tbody>\n",
       "</table>\n",
       "<p>5 rows × 56 columns</p>\n",
       "</div>"
      ],
      "text/plain": [
       "   vano  mes  hom_doloso  lesao_corp_morte  latrocinio  \\\n",
       "0  1991    1         657               NaN          15   \n",
       "1  1991    2         732               NaN          17   \n",
       "2  1991    3         713               NaN          25   \n",
       "3  1991    4         634               NaN          20   \n",
       "4  1991    5         650               NaN          20   \n",
       "\n",
       "   hom_por_interv_policial  tentat_hom  lesao_corp_dolosa  estupro  \\\n",
       "0                      NaN         162               3051      NaN   \n",
       "1                      NaN         175               3421      NaN   \n",
       "2                      NaN         216               3613      NaN   \n",
       "3                      NaN         200               3211      NaN   \n",
       "4                      NaN         146               3051      NaN   \n",
       "\n",
       "   hom_culposo  ...  pessoas_desaparecidas  encontro_cadaver  encontro_ossada  \\\n",
       "0          NaN  ...                    NaN               217              NaN   \n",
       "1          NaN  ...                    NaN               209              NaN   \n",
       "2          NaN  ...                    NaN               188              NaN   \n",
       "3          NaN  ...                    NaN               140              NaN   \n",
       "4          NaN  ...                    NaN                78              NaN   \n",
       "\n",
       "   pol_militares_mortos_serv  pol_civis_mortos_serv  indicador_letalidade  \\\n",
       "0                        NaN                    NaN                   672   \n",
       "1                        NaN                    NaN                   749   \n",
       "2                        NaN                    NaN                   738   \n",
       "3                        NaN                    NaN                   654   \n",
       "4                        NaN                    NaN                   670   \n",
       "\n",
       "   indicador_roubo_rua  indicador_roubo_veic  registro_ocorrencias  fase  \n",
       "0                 1348                  1174                   NaN     3  \n",
       "1                 1395                  1097                   NaN     3  \n",
       "2                 1385                  1265                   NaN     3  \n",
       "3                 1540                  1415                   NaN     3  \n",
       "4                 1266                  1449                   NaN     3  \n",
       "\n",
       "[5 rows x 56 columns]"
      ]
     },
     "execution_count": 34,
     "metadata": {},
     "output_type": "execute_result"
    }
   ],
   "source": [
    "data.head()"
   ]
  },
  {
   "cell_type": "markdown",
   "metadata": {
    "colab_type": "text",
    "id": "qb5By2nIMS6m"
   },
   "source": [
    "## Análise Inicial dos Dados\n",
    "\n",
    "Breve contextualização...\n",
    "\n",
    "`Os dados foram retirados da base de dados de estatística de segurança do estado do rj, possuí o número de registros de violência mensal ocorridos nos últimos anos.`\n",
    "\n",
    "Descreva e execute as seguintes etapas:\n",
    "\n",
    "* Qual o tamanho do seu DataFrame (`shape`)\n",
    "* Extrair e imprimir os nomes das colunas (`columns`)\n",
    "* Quais os tipos das variáveis (`dtypes`)\n",
    "* Visualizar as 5 primeiras linhas (`head`)\n",
    "* Identifique a porcentagem de valores ausentes das colunas\n"
   ]
  },
  {
   "cell_type": "markdown",
   "metadata": {
    "colab_type": "text",
    "id": "0zxQHhIUDF_2"
   },
   "source": [
    "\n",
    "#### Obtenção dos Dados\n",
    "\n",
    "\n",
    "* Descreva a fonte dos seus dados e um breve resumo sobre o que se pode esperar desse *dataset*\n",
    "\n",
    "#### Resposta\n",
    "* Os dados descrevem quantitativamente as formas de violência praticadas no rj. A base de dados abrange desde o ano de 1991 até o ano de 2019 em períodos de meses.  "
   ]
  },
  {
   "cell_type": "markdown",
   "metadata": {},
   "source": [
    "#### Tamanho do dataFrame"
   ]
  },
  {
   "cell_type": "code",
   "execution_count": 15,
   "metadata": {},
   "outputs": [
    {
     "data": {
      "text/plain": [
       "(344, 56)"
      ]
     },
     "execution_count": 15,
     "metadata": {},
     "output_type": "execute_result"
    }
   ],
   "source": [
    "data.shape"
   ]
  },
  {
   "cell_type": "markdown",
   "metadata": {},
   "source": [
    "#### Columns do dataFrame"
   ]
  },
  {
   "cell_type": "code",
   "execution_count": 21,
   "metadata": {},
   "outputs": [
    {
     "data": {
      "text/plain": [
       "Index(['vano', 'mes', 'hom_doloso', 'lesao_corp_morte', 'latrocinio',\n",
       "       'hom_por_interv_policial', 'tentat_hom', 'lesao_corp_dolosa', 'estupro',\n",
       "       'hom_culposo', 'lesao_corp_culposa', 'roubo_comercio',\n",
       "       'roubo_residencia', 'roubo_veiculo', 'roubo_carga', 'roubo_transeunte',\n",
       "       'roubo_em_coletivo', 'roubo_banco', 'roubo_cx_eletronico',\n",
       "       'roubo_celular', 'roubo_conducao_saque', 'roubo_apos_saque',\n",
       "       'roubo_bicicleta', 'outros_roubos', 'total_roubos', 'furto_veiculos',\n",
       "       'furto_transeunte', 'furto_coletivo', 'furto_celular',\n",
       "       'furto_bicicleta', 'outros_furtos', 'total_furtos', 'sequestro',\n",
       "       'extorsao', 'sequestro_relampago', 'estelionato', 'apreensao_drogas',\n",
       "       'posse_drogas', 'trafico_drogas', 'apreensao_drogas_sem_autor',\n",
       "       'recuperacao_veiculos', 'apf', 'aaapai', 'cmp', 'cmba', 'ameaca',\n",
       "       'pessoas_desaparecidas', 'encontro_cadaver', 'encontro_ossada',\n",
       "       'pol_militares_mortos_serv', 'pol_civis_mortos_serv',\n",
       "       'indicador_letalidade', 'indicador_roubo_rua', 'indicador_roubo_veic',\n",
       "       'registro_ocorrencias', 'fase'],\n",
       "      dtype='object')"
      ]
     },
     "execution_count": 21,
     "metadata": {},
     "output_type": "execute_result"
    }
   ],
   "source": [
    "data.columns"
   ]
  },
  {
   "cell_type": "markdown",
   "metadata": {},
   "source": [
    "#### Tipos de dados(dtype) das colunas"
   ]
  },
  {
   "cell_type": "code",
   "execution_count": 20,
   "metadata": {},
   "outputs": [
    {
     "data": {
      "text/plain": [
       "vano                            int64\n",
       "mes                             int64\n",
       "hom_doloso                      int64\n",
       "lesao_corp_morte              float64\n",
       "latrocinio                      int64\n",
       "hom_por_interv_policial       float64\n",
       "tentat_hom                      int64\n",
       "lesao_corp_dolosa               int64\n",
       "estupro                       float64\n",
       "hom_culposo                   float64\n",
       "lesao_corp_culposa            float64\n",
       "roubo_comercio                  int64\n",
       "roubo_residencia                int64\n",
       "roubo_veiculo                   int64\n",
       "roubo_carga                     int64\n",
       "roubo_transeunte                int64\n",
       "roubo_em_coletivo               int64\n",
       "roubo_banco                     int64\n",
       "roubo_cx_eletronico           float64\n",
       "roubo_celular                 float64\n",
       "roubo_conducao_saque          float64\n",
       "roubo_apos_saque              float64\n",
       "roubo_bicicleta               float64\n",
       "outros_roubos                   int64\n",
       "total_roubos                    int64\n",
       "furto_veiculos                  int64\n",
       "furto_transeunte                int64\n",
       "furto_coletivo                float64\n",
       "furto_celular                 float64\n",
       "furto_bicicleta               float64\n",
       "outros_furtos                   int64\n",
       "total_furtos                    int64\n",
       "sequestro                     float64\n",
       "extorsao                      float64\n",
       "sequestro_relampago           float64\n",
       "estelionato                   float64\n",
       "apreensao_drogas                int64\n",
       "posse_drogas                  float64\n",
       "trafico_drogas                float64\n",
       "apreensao_drogas_sem_autor    float64\n",
       "recuperacao_veiculos            int64\n",
       "apf                           float64\n",
       "aaapai                        float64\n",
       "cmp                           float64\n",
       "cmba                          float64\n",
       "ameaca                        float64\n",
       "pessoas_desaparecidas         float64\n",
       "encontro_cadaver                int64\n",
       "encontro_ossada               float64\n",
       "pol_militares_mortos_serv     float64\n",
       "pol_civis_mortos_serv         float64\n",
       "indicador_letalidade            int64\n",
       "indicador_roubo_rua             int64\n",
       "indicador_roubo_veic            int64\n",
       "registro_ocorrencias          float64\n",
       "fase                            int64\n",
       "dtype: object"
      ]
     },
     "execution_count": 20,
     "metadata": {},
     "output_type": "execute_result"
    }
   ],
   "source": [
    "data.dtypes"
   ]
  },
  {
   "cell_type": "markdown",
   "metadata": {},
   "source": [
    "#### Menor valor da coluna ano"
   ]
  },
  {
   "cell_type": "code",
   "execution_count": 9,
   "metadata": {},
   "outputs": [
    {
     "data": {
      "text/plain": [
       "1991"
      ]
     },
     "execution_count": 9,
     "metadata": {},
     "output_type": "execute_result"
    }
   ],
   "source": [
    "data[\"vano\"].min()\n",
    "#data.head()"
   ]
  },
  {
   "cell_type": "markdown",
   "metadata": {},
   "source": [
    "#### Média dos dados nulos por coluna.\n",
    "obs: Média, a soma dos valores divido pelo número de linhas"
   ]
  },
  {
   "cell_type": "code",
   "execution_count": 34,
   "metadata": {},
   "outputs": [
    {
     "data": {
      "text/plain": [
       "vano                          0.000000\n",
       "mes                           0.000000\n",
       "hom_doloso                    0.000000\n",
       "lesao_corp_morte              0.279070\n",
       "latrocinio                    0.000000\n",
       "hom_por_interv_policial       0.244186\n",
       "tentat_hom                    0.000000\n",
       "lesao_corp_dolosa             0.000000\n",
       "estupro                       0.418605\n",
       "hom_culposo                   0.244186\n",
       "lesao_corp_culposa            0.279070\n",
       "roubo_comercio                0.000000\n",
       "roubo_residencia              0.000000\n",
       "roubo_veiculo                 0.000000\n",
       "roubo_carga                   0.000000\n",
       "roubo_transeunte              0.000000\n",
       "roubo_em_coletivo             0.000000\n",
       "roubo_banco                   0.000000\n",
       "roubo_cx_eletronico           0.418605\n",
       "roubo_celular                 0.313953\n",
       "roubo_conducao_saque          0.418605\n",
       "roubo_apos_saque              0.418605\n",
       "roubo_bicicleta               0.802326\n",
       "outros_roubos                 0.000000\n",
       "total_roubos                  0.000000\n",
       "furto_veiculos                0.000000\n",
       "furto_transeunte              0.000000\n",
       "furto_coletivo                0.418605\n",
       "furto_celular                 0.418605\n",
       "furto_bicicleta               0.802326\n",
       "outros_furtos                 0.000000\n",
       "total_furtos                  0.000000\n",
       "sequestro                     0.279070\n",
       "extorsao                      0.418605\n",
       "sequestro_relampago           0.418605\n",
       "estelionato                   0.418605\n",
       "apreensao_drogas              0.000000\n",
       "posse_drogas                  0.523256\n",
       "trafico_drogas                0.523256\n",
       "apreensao_drogas_sem_autor    0.523256\n",
       "recuperacao_veiculos          0.000000\n",
       "apf                           0.523256\n",
       "aaapai                        0.523256\n",
       "cmp                           0.523256\n",
       "cmba                          0.523256\n",
       "ameaca                        0.279070\n",
       "pessoas_desaparecidas         0.383721\n",
       "encontro_cadaver              0.000000\n",
       "encontro_ossada               0.383721\n",
       "pol_militares_mortos_serv     0.418605\n",
       "pol_civis_mortos_serv         0.418605\n",
       "indicador_letalidade          0.000000\n",
       "indicador_roubo_rua           0.000000\n",
       "indicador_roubo_veic          0.000000\n",
       "registro_ocorrencias          0.279070\n",
       "fase                          0.000000\n",
       "dtype: float64"
      ]
     },
     "execution_count": 34,
     "metadata": {},
     "output_type": "execute_result"
    }
   ],
   "source": [
    "data.isnull().mean()\n"
   ]
  },
  {
   "cell_type": "markdown",
   "metadata": {
    "colab_type": "text",
    "id": "G6dnsNYm-41g"
   },
   "source": [
    "## Informações Estatísticas da Violência no Rio de Janeiro\n",
    "\n",
    "Descreva e execute as seguintes etapas:\n",
    "\n",
    "1. Imprima o resumo estatístico do seu DataFrame (`describe`)\n",
    "2. Encontre as médias das seguintes variáveis (colunas):\n",
    "  * `roubo_veiculo`\n",
    "  * `furto_veiculos`\n",
    "  * `recuperacao_veiculos`\n",
    "3. Calcule qual a porcentagem de carros recuperados em relação aos carros roubados + carros furtados:\n",
    "  * $\\frac{\\text{recuperacao_veiculos}}{\\text{roubo_veiculo} + \\text{furto_veiculos}}$\n",
    "4. Encontre os valores máximos (`max`) e mínimos (`min`) da coluna `hom_doloso`\n",
    "5. Qual tipo de roubo mais ocorreu em 1991, em 2005 e em 2019?\n",
    "6. Qual tipo de furto mais ocorreu em 1991, em 2005 em 2019?\n",
    "7. Qual foi o tipo de homicidio que mais ocorreu em 2006?\n",
    "8. Houve algum período em que ocorreram mais homicidios culposos do que homicidios dolosos?"
   ]
  },
  {
   "cell_type": "markdown",
   "metadata": {},
   "source": [
    "1. Imprima o resumo estatístico do seu DataFrame (`describe`)\n",
    "\n",
    "Resumo estatístico do dataframe: \n",
    "\n",
    "* **count**: A soma dos valores por coluna \n",
    "* **mean**: Media dos valores por coluna\n",
    "* **min**: Menor valor por coluna\n",
    "* **max**: Maior valor na coluna\n",
    "* **std**: Desvio padrão, medida de dispersão em torno da media populacional de uma variavel. Um grande desvio padrao indica que os pontos dos dados estão espalhados longe da media e um pequeno desvio padrão indica que os pontos dos dados estão agrupados próximo da média.\n",
    "* **Percentis**: retorna o valor dos dados para os percentuais 25%, 50% e 75%. "
   ]
  },
  {
   "cell_type": "code",
   "execution_count": 35,
   "metadata": {},
   "outputs": [
    {
     "data": {
      "text/html": [
       "<div>\n",
       "<style scoped>\n",
       "    .dataframe tbody tr th:only-of-type {\n",
       "        vertical-align: middle;\n",
       "    }\n",
       "\n",
       "    .dataframe tbody tr th {\n",
       "        vertical-align: top;\n",
       "    }\n",
       "\n",
       "    .dataframe thead th {\n",
       "        text-align: right;\n",
       "    }\n",
       "</style>\n",
       "<table border=\"1\" class=\"dataframe\">\n",
       "  <thead>\n",
       "    <tr style=\"text-align: right;\">\n",
       "      <th></th>\n",
       "      <th>vano</th>\n",
       "      <th>mes</th>\n",
       "      <th>hom_doloso</th>\n",
       "      <th>lesao_corp_morte</th>\n",
       "      <th>latrocinio</th>\n",
       "      <th>hom_por_interv_policial</th>\n",
       "      <th>tentat_hom</th>\n",
       "      <th>lesao_corp_dolosa</th>\n",
       "      <th>estupro</th>\n",
       "      <th>hom_culposo</th>\n",
       "      <th>...</th>\n",
       "      <th>pessoas_desaparecidas</th>\n",
       "      <th>encontro_cadaver</th>\n",
       "      <th>encontro_ossada</th>\n",
       "      <th>pol_militares_mortos_serv</th>\n",
       "      <th>pol_civis_mortos_serv</th>\n",
       "      <th>indicador_letalidade</th>\n",
       "      <th>indicador_roubo_rua</th>\n",
       "      <th>indicador_roubo_veic</th>\n",
       "      <th>registro_ocorrencias</th>\n",
       "      <th>fase</th>\n",
       "    </tr>\n",
       "  </thead>\n",
       "  <tbody>\n",
       "    <tr>\n",
       "      <th>count</th>\n",
       "      <td>344.000000</td>\n",
       "      <td>344.000000</td>\n",
       "      <td>344.000000</td>\n",
       "      <td>248.000000</td>\n",
       "      <td>344.000000</td>\n",
       "      <td>260.00000</td>\n",
       "      <td>344.000000</td>\n",
       "      <td>344.000000</td>\n",
       "      <td>200.000000</td>\n",
       "      <td>260.000000</td>\n",
       "      <td>...</td>\n",
       "      <td>212.000000</td>\n",
       "      <td>344.000000</td>\n",
       "      <td>212.000000</td>\n",
       "      <td>200.000000</td>\n",
       "      <td>200.00000</td>\n",
       "      <td>344.000000</td>\n",
       "      <td>344.000000</td>\n",
       "      <td>344.000000</td>\n",
       "      <td>248.000000</td>\n",
       "      <td>344.000000</td>\n",
       "    </tr>\n",
       "    <tr>\n",
       "      <th>mean</th>\n",
       "      <td>2004.837209</td>\n",
       "      <td>6.453488</td>\n",
       "      <td>504.555233</td>\n",
       "      <td>4.334677</td>\n",
       "      <td>15.668605</td>\n",
       "      <td>71.90000</td>\n",
       "      <td>318.267442</td>\n",
       "      <td>5492.799419</td>\n",
       "      <td>369.945000</td>\n",
       "      <td>212.119231</td>\n",
       "      <td>...</td>\n",
       "      <td>435.132075</td>\n",
       "      <td>66.261628</td>\n",
       "      <td>3.301887</td>\n",
       "      <td>2.085000</td>\n",
       "      <td>0.34000</td>\n",
       "      <td>577.691860</td>\n",
       "      <td>4734.738372</td>\n",
       "      <td>2448.697674</td>\n",
       "      <td>53794.161290</td>\n",
       "      <td>2.994186</td>\n",
       "    </tr>\n",
       "    <tr>\n",
       "      <th>std</th>\n",
       "      <td>8.289036</td>\n",
       "      <td>3.447759</td>\n",
       "      <td>113.774481</td>\n",
       "      <td>2.755357</td>\n",
       "      <td>5.861427</td>\n",
       "      <td>36.48882</td>\n",
       "      <td>127.606645</td>\n",
       "      <td>1514.220579</td>\n",
       "      <td>94.392434</td>\n",
       "      <td>54.234700</td>\n",
       "      <td>...</td>\n",
       "      <td>65.353516</td>\n",
       "      <td>34.464519</td>\n",
       "      <td>2.192922</td>\n",
       "      <td>1.761616</td>\n",
       "      <td>0.63752</td>\n",
       "      <td>104.973929</td>\n",
       "      <td>3204.054864</td>\n",
       "      <td>789.689559</td>\n",
       "      <td>11039.051992</td>\n",
       "      <td>0.076138</td>\n",
       "    </tr>\n",
       "    <tr>\n",
       "      <th>min</th>\n",
       "      <td>1991.000000</td>\n",
       "      <td>1.000000</td>\n",
       "      <td>272.000000</td>\n",
       "      <td>0.000000</td>\n",
       "      <td>2.000000</td>\n",
       "      <td>10.00000</td>\n",
       "      <td>122.000000</td>\n",
       "      <td>2350.000000</td>\n",
       "      <td>188.000000</td>\n",
       "      <td>111.000000</td>\n",
       "      <td>...</td>\n",
       "      <td>236.000000</td>\n",
       "      <td>0.000000</td>\n",
       "      <td>0.000000</td>\n",
       "      <td>0.000000</td>\n",
       "      <td>0.00000</td>\n",
       "      <td>334.000000</td>\n",
       "      <td>1086.000000</td>\n",
       "      <td>1097.000000</td>\n",
       "      <td>30621.000000</td>\n",
       "      <td>2.000000</td>\n",
       "    </tr>\n",
       "    <tr>\n",
       "      <th>25%</th>\n",
       "      <td>1998.000000</td>\n",
       "      <td>3.000000</td>\n",
       "      <td>413.750000</td>\n",
       "      <td>2.000000</td>\n",
       "      <td>11.000000</td>\n",
       "      <td>41.75000</td>\n",
       "      <td>200.000000</td>\n",
       "      <td>4067.000000</td>\n",
       "      <td>282.000000</td>\n",
       "      <td>176.000000</td>\n",
       "      <td>...</td>\n",
       "      <td>390.000000</td>\n",
       "      <td>42.000000</td>\n",
       "      <td>2.000000</td>\n",
       "      <td>1.000000</td>\n",
       "      <td>0.00000</td>\n",
       "      <td>500.000000</td>\n",
       "      <td>1557.000000</td>\n",
       "      <td>1889.750000</td>\n",
       "      <td>45374.500000</td>\n",
       "      <td>3.000000</td>\n",
       "    </tr>\n",
       "    <tr>\n",
       "      <th>50%</th>\n",
       "      <td>2005.000000</td>\n",
       "      <td>6.000000</td>\n",
       "      <td>507.000000</td>\n",
       "      <td>4.000000</td>\n",
       "      <td>15.000000</td>\n",
       "      <td>70.00000</td>\n",
       "      <td>318.500000</td>\n",
       "      <td>5830.500000</td>\n",
       "      <td>384.000000</td>\n",
       "      <td>203.000000</td>\n",
       "      <td>...</td>\n",
       "      <td>427.000000</td>\n",
       "      <td>60.500000</td>\n",
       "      <td>3.000000</td>\n",
       "      <td>2.000000</td>\n",
       "      <td>0.00000</td>\n",
       "      <td>590.000000</td>\n",
       "      <td>4190.000000</td>\n",
       "      <td>2322.000000</td>\n",
       "      <td>54926.500000</td>\n",
       "      <td>3.000000</td>\n",
       "    </tr>\n",
       "    <tr>\n",
       "      <th>75%</th>\n",
       "      <td>2012.000000</td>\n",
       "      <td>9.000000</td>\n",
       "      <td>577.250000</td>\n",
       "      <td>6.000000</td>\n",
       "      <td>19.000000</td>\n",
       "      <td>96.25000</td>\n",
       "      <td>398.250000</td>\n",
       "      <td>6582.500000</td>\n",
       "      <td>441.250000</td>\n",
       "      <td>236.250000</td>\n",
       "      <td>...</td>\n",
       "      <td>481.500000</td>\n",
       "      <td>87.000000</td>\n",
       "      <td>4.000000</td>\n",
       "      <td>3.000000</td>\n",
       "      <td>1.00000</td>\n",
       "      <td>649.000000</td>\n",
       "      <td>6872.750000</td>\n",
       "      <td>2778.000000</td>\n",
       "      <td>63292.500000</td>\n",
       "      <td>3.000000</td>\n",
       "    </tr>\n",
       "    <tr>\n",
       "      <th>max</th>\n",
       "      <td>2019.000000</td>\n",
       "      <td>12.000000</td>\n",
       "      <td>831.000000</td>\n",
       "      <td>21.000000</td>\n",
       "      <td>36.000000</td>\n",
       "      <td>194.00000</td>\n",
       "      <td>645.000000</td>\n",
       "      <td>9050.000000</td>\n",
       "      <td>561.000000</td>\n",
       "      <td>449.000000</td>\n",
       "      <td>...</td>\n",
       "      <td>628.000000</td>\n",
       "      <td>217.000000</td>\n",
       "      <td>13.000000</td>\n",
       "      <td>10.000000</td>\n",
       "      <td>3.00000</td>\n",
       "      <td>848.000000</td>\n",
       "      <td>13833.000000</td>\n",
       "      <td>5358.000000</td>\n",
       "      <td>75403.000000</td>\n",
       "      <td>3.000000</td>\n",
       "    </tr>\n",
       "  </tbody>\n",
       "</table>\n",
       "<p>8 rows × 56 columns</p>\n",
       "</div>"
      ],
      "text/plain": [
       "              vano         mes  hom_doloso  lesao_corp_morte  latrocinio  \\\n",
       "count   344.000000  344.000000  344.000000        248.000000  344.000000   \n",
       "mean   2004.837209    6.453488  504.555233          4.334677   15.668605   \n",
       "std       8.289036    3.447759  113.774481          2.755357    5.861427   \n",
       "min    1991.000000    1.000000  272.000000          0.000000    2.000000   \n",
       "25%    1998.000000    3.000000  413.750000          2.000000   11.000000   \n",
       "50%    2005.000000    6.000000  507.000000          4.000000   15.000000   \n",
       "75%    2012.000000    9.000000  577.250000          6.000000   19.000000   \n",
       "max    2019.000000   12.000000  831.000000         21.000000   36.000000   \n",
       "\n",
       "       hom_por_interv_policial  tentat_hom  lesao_corp_dolosa     estupro  \\\n",
       "count                260.00000  344.000000         344.000000  200.000000   \n",
       "mean                  71.90000  318.267442        5492.799419  369.945000   \n",
       "std                   36.48882  127.606645        1514.220579   94.392434   \n",
       "min                   10.00000  122.000000        2350.000000  188.000000   \n",
       "25%                   41.75000  200.000000        4067.000000  282.000000   \n",
       "50%                   70.00000  318.500000        5830.500000  384.000000   \n",
       "75%                   96.25000  398.250000        6582.500000  441.250000   \n",
       "max                  194.00000  645.000000        9050.000000  561.000000   \n",
       "\n",
       "       hom_culposo  ...  pessoas_desaparecidas  encontro_cadaver  \\\n",
       "count   260.000000  ...             212.000000        344.000000   \n",
       "mean    212.119231  ...             435.132075         66.261628   \n",
       "std      54.234700  ...              65.353516         34.464519   \n",
       "min     111.000000  ...             236.000000          0.000000   \n",
       "25%     176.000000  ...             390.000000         42.000000   \n",
       "50%     203.000000  ...             427.000000         60.500000   \n",
       "75%     236.250000  ...             481.500000         87.000000   \n",
       "max     449.000000  ...             628.000000        217.000000   \n",
       "\n",
       "       encontro_ossada  pol_militares_mortos_serv  pol_civis_mortos_serv  \\\n",
       "count       212.000000                 200.000000              200.00000   \n",
       "mean          3.301887                   2.085000                0.34000   \n",
       "std           2.192922                   1.761616                0.63752   \n",
       "min           0.000000                   0.000000                0.00000   \n",
       "25%           2.000000                   1.000000                0.00000   \n",
       "50%           3.000000                   2.000000                0.00000   \n",
       "75%           4.000000                   3.000000                1.00000   \n",
       "max          13.000000                  10.000000                3.00000   \n",
       "\n",
       "       indicador_letalidade  indicador_roubo_rua  indicador_roubo_veic  \\\n",
       "count            344.000000           344.000000            344.000000   \n",
       "mean             577.691860          4734.738372           2448.697674   \n",
       "std              104.973929          3204.054864            789.689559   \n",
       "min              334.000000          1086.000000           1097.000000   \n",
       "25%              500.000000          1557.000000           1889.750000   \n",
       "50%              590.000000          4190.000000           2322.000000   \n",
       "75%              649.000000          6872.750000           2778.000000   \n",
       "max              848.000000         13833.000000           5358.000000   \n",
       "\n",
       "       registro_ocorrencias        fase  \n",
       "count            248.000000  344.000000  \n",
       "mean           53794.161290    2.994186  \n",
       "std            11039.051992    0.076138  \n",
       "min            30621.000000    2.000000  \n",
       "25%            45374.500000    3.000000  \n",
       "50%            54926.500000    3.000000  \n",
       "75%            63292.500000    3.000000  \n",
       "max            75403.000000    3.000000  \n",
       "\n",
       "[8 rows x 56 columns]"
      ]
     },
     "execution_count": 35,
     "metadata": {},
     "output_type": "execute_result"
    }
   ],
   "source": [
    "data.describe()"
   ]
  },
  {
   "cell_type": "markdown",
   "metadata": {},
   "source": [
    "\n",
    "2. Encontre as médias das seguintes variáveis (colunas):\n",
    "  * `roubo_veiculo`\n",
    "  * `furto_veiculos`\n",
    "  * `recuperacao_veiculos`\n",
    "\n",
    "**median**, mediana de um conjunto de valores é o valor que está no centro desse conjunto.\n",
    "\n",
    "**mean**, a média é a soma dos valores dividido pelo número de linhas"
   ]
  },
  {
   "cell_type": "code",
   "execution_count": 22,
   "metadata": {},
   "outputs": [
    {
     "name": "stdout",
     "output_type": "stream",
     "text": [
      "Média dos valores de roubo_veiculo 2448.7 .\n",
      "Media dos valores de furto de vaiculos 1674.67 .\n",
      "Média dos valores de recuperação de veiculos 1772.24 .\n"
     ]
    }
   ],
   "source": [
    "print(\"Média dos valores de roubo_veiculo {} .\".format(data.roubo_veiculo.mean().round(2)))\n",
    "print(\"Media dos valores de furto de vaiculos {} .\".format(data.furto_veiculos.mean().round(2)))\n",
    "print(\"Média dos valores de recuperação de veiculos {} .\".format(data.recuperacao_veiculos.mean().round(2)))\n"
   ]
  },
  {
   "cell_type": "markdown",
   "metadata": {},
   "source": [
    "#### Soma da recuperação de veículos por ano\n",
    "\n",
    "3. Calcule qual a porcentagem de carros recuperados em relação aos carros roubados + carros furtados:\n",
    "  * $\\frac{\\text{recuperacao_veiculos}}{\\text{roubo_veiculo} + \\text{furto_veiculos}}$\n"
   ]
  },
  {
   "cell_type": "code",
   "execution_count": 14,
   "metadata": {},
   "outputs": [
    {
     "name": "stdout",
     "output_type": "stream",
     "text": [
      "O valor da porcentagem é 43.0% .\n"
     ]
    }
   ],
   "source": [
    "tot = data.recuperacao_veiculos.sum()/(data.roubo_veiculo.sum() + data.furto_veiculos.sum())\n",
    "\n",
    "print(\"O valor da porcentagem é {}% .\".format(100 *tot.round(2)))"
   ]
  },
  {
   "cell_type": "markdown",
   "metadata": {},
   "source": [
    "4. Encontre os valores máximos (`max`) e mínimos (`min`) da coluna `hom_doloso`"
   ]
  },
  {
   "cell_type": "code",
   "execution_count": 18,
   "metadata": {},
   "outputs": [
    {
     "name": "stdout",
     "output_type": "stream",
     "text": [
      "O valor máximo para homicidio dolodo é: 831 .\n",
      "O valor mín para homicidio doloso é: 272 .\n"
     ]
    }
   ],
   "source": [
    "print(\"O valor máximo para homicidio dolodo é: {} .\".format(data.hom_doloso.max()))\n",
    "print(\"O valor mín para homicidio doloso é: {} .\".format(data.hom_doloso.min()))"
   ]
  },
  {
   "cell_type": "markdown",
   "metadata": {},
   "source": [
    "5. Qual tipo de roubo mais ocorreu em 1991, em 2005 e em 2019?"
   ]
  },
  {
   "cell_type": "code",
   "execution_count": 20,
   "metadata": {},
   "outputs": [
    {
     "name": "stdout",
     "output_type": "stream",
     "text": [
      "O roubo que mais ocorreu em 1991 foi: roubo_veiculo 1600.0 .\n",
      "O roubo que mais ocorreu em 2005 foi: roubo_transeunte 3436.0.\n",
      "O roubo que mais ocorreu em 2019 foi: roubo_transeunte 7734.0 .\n"
     ]
    }
   ],
   "source": [
    "filter_col = [col for col in data if col.startswith('roubo')]\n",
    "tp_roubos = data[filter_col]\n",
    "\n",
    "t = tp_roubos.loc[data.vano == 1991,:].max().sort_values(ascending=False)\n",
    "a = t.iloc[0:1]\n",
    "a =str(a).split() [0:2]\n",
    "print(\"O roubo que mais ocorreu em 1991 foi: {} {} .\".format(a[0], a[1]))\n",
    "\n",
    "x = tp_roubos.loc[data.vano == 2005,:].max().sort_values(ascending=False)\n",
    "b = x.iloc[0:1]\n",
    "b =str(b).split() [0:2]\n",
    "print(\"O roubo que mais ocorreu em 2005 foi: {} {}.\".format(b[0], b[1]))\n",
    "\n",
    "y = tp_roubos.loc[data.vano == 2019,:].max().sort_values(ascending=False)\n",
    "c = y.iloc[0:1]\n",
    "c = str(c).split() [0:2]\n",
    "print(\"O roubo que mais ocorreu em 2019 foi: {} {} .\".format(c[0],c[1]))"
   ]
  },
  {
   "cell_type": "markdown",
   "metadata": {},
   "source": [
    "6. Qual tipo de furto mais ocorreu em 1991, em 2005 em 2019?"
   ]
  },
  {
   "cell_type": "code",
   "execution_count": 19,
   "metadata": {},
   "outputs": [
    {
     "name": "stdout",
     "output_type": "stream",
     "text": [
      "O furto que mais ocorreu em 1991 foi: furto_veiculos 2185.0 \n",
      "O furto que mais ocorreu em 2005 foi: furto_veiculos 1927.0 \n",
      "O furto que mais ocorreu em 2019 foi: furto_transeunte 2757.0 \n"
     ]
    }
   ],
   "source": [
    "filter = [col for col in data if col.startswith('furto')]\n",
    "tp_furto = data[filter]\n",
    "f1 = tp_furto.loc[data.vano == 1991].max().sort_values(ascending = False)\n",
    "f1 = f1.iloc[0:1]\n",
    "f1 = str(f1).split() [0:2]\n",
    "print(\"O furto que mais ocorreu em 1991 foi: {} {} \".format(f1[0], f1[1]))\n",
    "\n",
    "f2 = tp_furto.loc[data.vano == 2005].max().sort_values(ascending = False)\n",
    "f2 = f2.iloc[0:1]\n",
    "f2 = str(f2).split() [0:2]\n",
    "print(\"O furto que mais ocorreu em 2005 foi: {} {} \".format(f2[0], f2[1]))\n",
    "\n",
    "f3 = tp_furto.loc[data.vano == 2019].max().sort_values(ascending = False)\n",
    "f3 = f3.iloc[0:1]\n",
    "f3 = str(f3).split() [0:2]\n",
    "print(\"O furto que mais ocorreu em 2019 foi: {} {} \".format(f3[0], f3[1]))\n",
    "\n"
   ]
  },
  {
   "cell_type": "markdown",
   "metadata": {},
   "source": [
    "7. Qual foi o tipo de homicidio que mais ocorreu em 2006?"
   ]
  },
  {
   "cell_type": "code",
   "execution_count": 88,
   "metadata": {},
   "outputs": [
    {
     "name": "stdout",
     "output_type": "stream",
     "text": [
      "O tipo de homicidio que mais ocorreu em 2006 foi: hom_doloso 607.0\n"
     ]
    }
   ],
   "source": [
    "filter_hom = [col for col in data if 'hom' in col]\n",
    "tp = data[filter_hom]\n",
    "hom = tp.loc[data.vano == 2006,:].max().sort_values(ascending = False)\n",
    "hom = hom.iloc[0:1]\n",
    "hom = str(hom).split()[0:2]\n",
    "print(\"O tipo de homicidio que mais ocorreu em 2006 foi: {} {}\".format(hom[0], hom[1]))\n"
   ]
  },
  {
   "cell_type": "markdown",
   "metadata": {},
   "source": [
    "8. Houve algum período em que ocorreram mais homicidios culposos do que homicidios dolosos?"
   ]
  },
  {
   "cell_type": "code",
   "execution_count": 21,
   "metadata": {},
   "outputs": [
    {
     "name": "stdout",
     "output_type": "stream",
     "text": [
      "O ano que houve mais homicidios culposos que homicidios dolosos foi 1998.\n"
     ]
    }
   ],
   "source": [
    "t = data.loc[data['hom_culposo'] > data['hom_doloso'],:].vano\n",
    "t = t.value_counts()\n",
    "t = str(t).split()[0:2]\n",
    "print(\"O ano que houve mais homicidios culposos que homicidios dolosos foi {}.\".format(t[0]))"
   ]
  },
  {
   "cell_type": "markdown",
   "metadata": {},
   "source": [
    "1. O que é um histograma?\n",
    "\n",
    "Um gráfico que mostra a frequência de ocorrência dos valores da coluna\n",
    "\n",
    "2. Por que utilizar um histograma?\n",
    "\n",
    "Para visualizar a frequencia que ocorre um tipo de comportamento no dataset"
   ]
  },
  {
   "cell_type": "markdown",
   "metadata": {},
   "source": [
    "#### Histograma para homicidio doloso "
   ]
  },
  {
   "cell_type": "code",
   "execution_count": 82,
   "metadata": {},
   "outputs": [
    {
     "data": {
      "image/png": "[encoded data removed]",
      "text/plain": [
       "<Figure size 432x288 with 1 Axes>"
      ]
     },
     "metadata": {
      "needs_background": "light"
     },
     "output_type": "display_data"
    }
   ],
   "source": [
    "t = data.groupby([data.vano]).hom_doloso.sum()\n",
    "plt.bar(t.index,t.values, color = 'red')\n",
    "#t = data.groupby([data.vano]).hom_doloso.sum().plot()\n",
    "plt.title(\"Número de homicidio por ano\")\n",
    "plt.xlabel(\"Anos\")\n",
    "plt.ylabel(\"Homicidios\")\n",
    "plt.show()"
   ]
  },
  {
   "cell_type": "markdown",
   "metadata": {},
   "source": [
    "#### Gráfico de linhas para roubo coletivo"
   ]
  },
  {
   "cell_type": "code",
   "execution_count": 27,
   "metadata": {},
   "outputs": [
    {
     "data": {
      "text/plain": [
       "Text(0, 0.5, 'Quantidade')"
      ]
     },
     "execution_count": 27,
     "metadata": {},
     "output_type": "execute_result"
    },
    {
     "data": {
      "image/png": "[encoded data removed]",
      "text/plain": [
       "<Figure size 432x288 with 1 Axes>"
      ]
     },
     "metadata": {
      "needs_background": "light"
     },
     "output_type": "display_data"
    }
   ],
   "source": [
    "data.groupby([data.vano]).roubo_em_coletivo.sum().plot(color = 'red')\n",
    "plt.title(\"Gráfico de linhas para roubo coletivo em ano\")\n",
    "plt.xlabel(\"Ano\")\n",
    "plt.ylabel(\"Quantidade\")"
   ]
  },
  {
   "cell_type": "markdown",
   "metadata": {},
   "source": [
    "### Analisando o indice geral de crime por ano"
   ]
  },
  {
   "cell_type": "code",
   "execution_count": 104,
   "metadata": {
    "scrolled": true
   },
   "outputs": [
    {
     "data": {
      "text/plain": [
       "Text(0.5, 1.0, 'Total de casos de violência por ano')"
      ]
     },
     "execution_count": 104,
     "metadata": {},
     "output_type": "execute_result"
    },
    {
     "data": {
      "image/png": "[encoded data removed]",
      "text/plain": [
       "<Figure size 432x288 with 2 Axes>"
      ]
     },
     "metadata": {
      "needs_background": "light"
     },
     "output_type": "display_data"
    }
   ],
   "source": [
    "#Plotando o gráfico de total geral de violência por ano\n",
    "dt = data.groupby(data.vano).sum()\n",
    "columns = ['mes', 'fase'] # Excluíndo colunas que não são tipos de violência\n",
    "dt.drop(columns, inplace = True, axis=1)\n",
    "d_ind = dt.index\n",
    "\n",
    "tot_col = sm_dados()\n",
    "tot = pd.Series(tot_col,index = d_ind)\n",
    "\n",
    "\n",
    "plt.subplot(311)\n",
    "tot.loc[tot.index > 2015].plot()\n",
    "plt.xlabel(\"Ultímos cinco Anos\")\n",
    "plt.ylabel(\"Total de casos\")\n",
    "plt.title(\"Total de casos de violência para os últimos cinco anos\")\n",
    "\n",
    "plt.subplot(212)\n",
    "tot.plot()\n",
    "tot.loc[tot.index > 2015].plot()\n",
    "\n",
    "plt.xlabel(\"Anos\")\n",
    "plt.ylabel(\"Total de casos\")\n",
    "plt.title(\"Total de casos de violência por ano\")"
   ]
  },
  {
   "cell_type": "code",
   "execution_count": 4,
   "metadata": {},
   "outputs": [],
   "source": [
    "# Função para fazer o total de casos por linha\n",
    "def sm_dados():\n",
    "    a = [] #criando lista\n",
    "    for i in range(len(dt)):\n",
    "        a.append(dt.iloc[i].sum())\n",
    "    return a"
   ]
  },
  {
   "cell_type": "markdown",
   "metadata": {
    "colab_type": "text",
    "id": "LCsiXvM3BcsO"
   },
   "source": [
    "\n",
    "\n",
    "## Conclusão\n",
    "\n",
    "Escreva suas conclusões e análises sobre os indicadores de violência do Rio de Janeiro..."
   ]
  },
  {
   "cell_type": "code",
   "execution_count": null,
   "metadata": {},
   "outputs": [],
   "source": [
    "É possível observar com o gráfico de linhas(total de casos de vioência por ano), \n",
    "que até o ano de 2017 o número de casos de violência teve um crescimento expressivo. \n",
    "Entretanto de 2017 a 2020 houve uma diminuição de 7500.000 mil casos. Assim, é possível deduzir que \n",
    "a violência no estado no RJ diminui bastante nesses últimos três anos.\n"
   ]
  }
 ],
 "metadata": {
  "colab": {
   "collapsed_sections": [],
   "name": "PROJETO - Analisando a Violência no Rio de Janeirob.ipynb",
   "provenance": []
  },
  "kernelspec": {
   "display_name": "Python 3",
   "language": "python",
   "name": "python3"
  },
  "language_info": {
   "codemirror_mode": {
    "name": "ipython",
    "version": 3
   },
   "file_extension": ".py",
   "mimetype": "text/x-python",
   "name": "python",
   "nbconvert_exporter": "python",
   "pygments_lexer": "ipython3",
   "version": "3.6.7"
  }
 },
 "nbformat": 4,
 "nbformat_minor": 1
}
