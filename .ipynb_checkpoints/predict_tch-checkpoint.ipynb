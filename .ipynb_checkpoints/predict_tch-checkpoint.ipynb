{
 "cells": [
  {
   "cell_type": "markdown",
   "metadata": {},
   "source": [
    "O dataset contém dados de 4000 talhões. Um talhão é uma área de cana plantada, como se fosse um \"quarteirão\" de cana com tamanho arbitrário.\n",
    "Os atributos são:\n",
    "* chavesig: identificador do talhao\n",
    "* tch: toneladas de cana por hectare (o que queremos prever)\n",
    "* ndvi_a_p05: indice de vegetação no 5º mês após o plantio\n",
    "* ncorte: número do corte\n",
    "* linhas_falha_km: quantos km de falhas nas linhas de cana do talhao\n",
    "* chuva_dia_pN: média de chuva por dia no mes N antes da colheita\n",
    "* bal_hidrico_pN: balanço hídrico no mes N antes da colheita\n",
    "* espacamento_m: espacamento entre as linhas de cana\n",
    "* area_esti: area estimada do talhaoa\n",
    "\n",
    "Com base nestas informações, construa um modelo capaz de prever, a quantidade de tch que sera colhida com base nos atributos que julgar necessários.\n",
    "É simples, não precisa de nada complicado. Quero ver como vc pensa em fazer isso e como apresenta a linha de raciocínio. O pipeline de trabalho é bem similar ao que tem no script de casas, mas é do zero agora."
   ]
  },
  {
   "cell_type": "markdown",
   "metadata": {},
   "source": [
    "### Importando os dados"
   ]
  },
  {
   "cell_type": "code",
   "execution_count": 1,
   "metadata": {},
   "outputs": [],
   "source": [
    "import pandas as pd\n",
    "import matplotlib.pyplot as plt\n",
    "base = pd.read_csv('sample_train_dataset_tch_pred.csv')"
   ]
  },
  {
   "cell_type": "code",
   "execution_count": 2,
   "metadata": {},
   "outputs": [
    {
     "data": {
      "text/html": [
       "<div>\n",
       "<style scoped>\n",
       "    .dataframe tbody tr th:only-of-type {\n",
       "        vertical-align: middle;\n",
       "    }\n",
       "\n",
       "    .dataframe tbody tr th {\n",
       "        vertical-align: top;\n",
       "    }\n",
       "\n",
       "    .dataframe thead th {\n",
       "        text-align: right;\n",
       "    }\n",
       "</style>\n",
       "<table border=\"1\" class=\"dataframe\">\n",
       "  <thead>\n",
       "    <tr style=\"text-align: right;\">\n",
       "      <th></th>\n",
       "      <th>chavesig</th>\n",
       "      <th>tch</th>\n",
       "      <th>ndvi_a_p05</th>\n",
       "      <th>ncorte</th>\n",
       "      <th>areaesti</th>\n",
       "      <th>linhas_falha_km</th>\n",
       "      <th>chuva_dia_p04</th>\n",
       "      <th>chuva_dia_p12</th>\n",
       "      <th>bal_hidrico_p12</th>\n",
       "      <th>bal_hidrico_p04</th>\n",
       "      <th>espacamento_m</th>\n",
       "    </tr>\n",
       "  </thead>\n",
       "  <tbody>\n",
       "    <tr>\n",
       "      <th>0</th>\n",
       "      <td>94478001</td>\n",
       "      <td>90.160088</td>\n",
       "      <td>0.680882</td>\n",
       "      <td>2.000000</td>\n",
       "      <td>4.56</td>\n",
       "      <td>0.0</td>\n",
       "      <td>1.161527</td>\n",
       "      <td>1.280645</td>\n",
       "      <td>-2.127157</td>\n",
       "      <td>-2.780566</td>\n",
       "      <td>1.400000</td>\n",
       "    </tr>\n",
       "    <tr>\n",
       "      <th>1</th>\n",
       "      <td>90709507</td>\n",
       "      <td>94.617647</td>\n",
       "      <td>0.707574</td>\n",
       "      <td>5.069624</td>\n",
       "      <td>103.70</td>\n",
       "      <td>0.0</td>\n",
       "      <td>8.496693</td>\n",
       "      <td>1.226924</td>\n",
       "      <td>-1.153300</td>\n",
       "      <td>4.153933</td>\n",
       "      <td>1.000000</td>\n",
       "    </tr>\n",
       "    <tr>\n",
       "      <th>2</th>\n",
       "      <td>36217378</td>\n",
       "      <td>63.242697</td>\n",
       "      <td>0.713584</td>\n",
       "      <td>6.000000</td>\n",
       "      <td>8.90</td>\n",
       "      <td>0.0</td>\n",
       "      <td>0.980281</td>\n",
       "      <td>7.037144</td>\n",
       "      <td>2.018537</td>\n",
       "      <td>-1.465973</td>\n",
       "      <td>1.500000</td>\n",
       "    </tr>\n",
       "    <tr>\n",
       "      <th>3</th>\n",
       "      <td>78399001</td>\n",
       "      <td>69.896337</td>\n",
       "      <td>0.722181</td>\n",
       "      <td>3.818791</td>\n",
       "      <td>76.10</td>\n",
       "      <td>0.0</td>\n",
       "      <td>2.672268</td>\n",
       "      <td>0.211750</td>\n",
       "      <td>-3.778909</td>\n",
       "      <td>-1.211574</td>\n",
       "      <td>1.400000</td>\n",
       "    </tr>\n",
       "    <tr>\n",
       "      <th>4</th>\n",
       "      <td>38177001</td>\n",
       "      <td>49.330938</td>\n",
       "      <td>0.740127</td>\n",
       "      <td>3.346908</td>\n",
       "      <td>6.63</td>\n",
       "      <td>0.0</td>\n",
       "      <td>5.116088</td>\n",
       "      <td>5.005593</td>\n",
       "      <td>0.827118</td>\n",
       "      <td>2.353678</td>\n",
       "      <td>1.465309</td>\n",
       "    </tr>\n",
       "  </tbody>\n",
       "</table>\n",
       "</div>"
      ],
      "text/plain": [
       "   chavesig        tch  ndvi_a_p05    ncorte  areaesti  linhas_falha_km  \\\n",
       "0  94478001  90.160088    0.680882  2.000000      4.56              0.0   \n",
       "1  90709507  94.617647    0.707574  5.069624    103.70              0.0   \n",
       "2  36217378  63.242697    0.713584  6.000000      8.90              0.0   \n",
       "3  78399001  69.896337    0.722181  3.818791     76.10              0.0   \n",
       "4  38177001  49.330938    0.740127  3.346908      6.63              0.0   \n",
       "\n",
       "   chuva_dia_p04  chuva_dia_p12  bal_hidrico_p12  bal_hidrico_p04  \\\n",
       "0       1.161527       1.280645        -2.127157        -2.780566   \n",
       "1       8.496693       1.226924        -1.153300         4.153933   \n",
       "2       0.980281       7.037144         2.018537        -1.465973   \n",
       "3       2.672268       0.211750        -3.778909        -1.211574   \n",
       "4       5.116088       5.005593         0.827118         2.353678   \n",
       "\n",
       "   espacamento_m  \n",
       "0       1.400000  \n",
       "1       1.000000  \n",
       "2       1.500000  \n",
       "3       1.400000  \n",
       "4       1.465309  "
      ]
     },
     "execution_count": 2,
     "metadata": {},
     "output_type": "execute_result"
    }
   ],
   "source": [
    "# Apresentando o cabeçalho dos dados\n",
    "base.head()"
   ]
  },
  {
   "cell_type": "code",
   "execution_count": 3,
   "metadata": {},
   "outputs": [
    {
     "data": {
      "text/plain": [
       "(4000, 11)"
      ]
     },
     "execution_count": 3,
     "metadata": {},
     "output_type": "execute_result"
    }
   ],
   "source": [
    "#Analisando o número de linhas e colunas\n",
    "base.shape"
   ]
  },
  {
   "cell_type": "code",
   "execution_count": 4,
   "metadata": {},
   "outputs": [
    {
     "data": {
      "text/plain": [
       "chavesig           0\n",
       "tch                0\n",
       "ndvi_a_p05         0\n",
       "ncorte             0\n",
       "areaesti           0\n",
       "linhas_falha_km    0\n",
       "chuva_dia_p04      0\n",
       "chuva_dia_p12      0\n",
       "bal_hidrico_p12    0\n",
       "bal_hidrico_p04    0\n",
       "espacamento_m      0\n",
       "dtype: int64"
      ]
     },
     "execution_count": 4,
     "metadata": {},
     "output_type": "execute_result"
    }
   ],
   "source": [
    "# Verificando se há linhas null no dataset\n",
    "base.isnull().sum()"
   ]
  },
  {
   "cell_type": "code",
   "execution_count": 5,
   "metadata": {},
   "outputs": [
    {
     "data": {
      "text/html": [
       "<div>\n",
       "<style scoped>\n",
       "    .dataframe tbody tr th:only-of-type {\n",
       "        vertical-align: middle;\n",
       "    }\n",
       "\n",
       "    .dataframe tbody tr th {\n",
       "        vertical-align: top;\n",
       "    }\n",
       "\n",
       "    .dataframe thead th {\n",
       "        text-align: right;\n",
       "    }\n",
       "</style>\n",
       "<table border=\"1\" class=\"dataframe\">\n",
       "  <thead>\n",
       "    <tr style=\"text-align: right;\">\n",
       "      <th></th>\n",
       "      <th>chavesig</th>\n",
       "      <th>tch</th>\n",
       "      <th>ndvi_a_p05</th>\n",
       "      <th>ncorte</th>\n",
       "      <th>areaesti</th>\n",
       "      <th>linhas_falha_km</th>\n",
       "      <th>chuva_dia_p04</th>\n",
       "      <th>chuva_dia_p12</th>\n",
       "      <th>bal_hidrico_p12</th>\n",
       "      <th>bal_hidrico_p04</th>\n",
       "      <th>espacamento_m</th>\n",
       "    </tr>\n",
       "  </thead>\n",
       "  <tbody>\n",
       "    <tr>\n",
       "      <th>count</th>\n",
       "      <td>4.000000e+03</td>\n",
       "      <td>4000.000000</td>\n",
       "      <td>4000.000000</td>\n",
       "      <td>4000.000000</td>\n",
       "      <td>4000.000000</td>\n",
       "      <td>4000.0</td>\n",
       "      <td>4000.000000</td>\n",
       "      <td>4000.000000</td>\n",
       "      <td>4000.000000</td>\n",
       "      <td>4000.000000</td>\n",
       "      <td>4000.000000</td>\n",
       "    </tr>\n",
       "    <tr>\n",
       "      <th>mean</th>\n",
       "      <td>4.603402e+07</td>\n",
       "      <td>76.766524</td>\n",
       "      <td>0.707713</td>\n",
       "      <td>4.019598</td>\n",
       "      <td>44.183920</td>\n",
       "      <td>0.0</td>\n",
       "      <td>3.707148</td>\n",
       "      <td>3.001388</td>\n",
       "      <td>-0.597152</td>\n",
       "      <td>0.500719</td>\n",
       "      <td>1.351093</td>\n",
       "    </tr>\n",
       "    <tr>\n",
       "      <th>std</th>\n",
       "      <td>3.346564e+07</td>\n",
       "      <td>21.994172</td>\n",
       "      <td>0.082000</td>\n",
       "      <td>2.170227</td>\n",
       "      <td>52.875883</td>\n",
       "      <td>0.0</td>\n",
       "      <td>3.141279</td>\n",
       "      <td>2.527869</td>\n",
       "      <td>2.497518</td>\n",
       "      <td>2.977927</td>\n",
       "      <td>0.109831</td>\n",
       "    </tr>\n",
       "    <tr>\n",
       "      <th>min</th>\n",
       "      <td>1.051000e+03</td>\n",
       "      <td>2.097543</td>\n",
       "      <td>0.262528</td>\n",
       "      <td>1.000000</td>\n",
       "      <td>0.300000</td>\n",
       "      <td>0.0</td>\n",
       "      <td>0.000000</td>\n",
       "      <td>0.000000</td>\n",
       "      <td>-6.198276</td>\n",
       "      <td>-5.184543</td>\n",
       "      <td>1.000000</td>\n",
       "    </tr>\n",
       "    <tr>\n",
       "      <th>25%</th>\n",
       "      <td>1.016225e+07</td>\n",
       "      <td>60.986837</td>\n",
       "      <td>0.674050</td>\n",
       "      <td>2.277235</td>\n",
       "      <td>9.520000</td>\n",
       "      <td>0.0</td>\n",
       "      <td>1.151477</td>\n",
       "      <td>0.954489</td>\n",
       "      <td>-2.354757</td>\n",
       "      <td>-1.744098</td>\n",
       "      <td>1.300000</td>\n",
       "    </tr>\n",
       "    <tr>\n",
       "      <th>50%</th>\n",
       "      <td>3.933800e+07</td>\n",
       "      <td>77.182640</td>\n",
       "      <td>0.717415</td>\n",
       "      <td>4.000000</td>\n",
       "      <td>22.720000</td>\n",
       "      <td>0.0</td>\n",
       "      <td>2.877009</td>\n",
       "      <td>2.459106</td>\n",
       "      <td>-0.994824</td>\n",
       "      <td>-0.188504</td>\n",
       "      <td>1.400000</td>\n",
       "    </tr>\n",
       "    <tr>\n",
       "      <th>75%</th>\n",
       "      <td>7.916925e+07</td>\n",
       "      <td>93.434802</td>\n",
       "      <td>0.752924</td>\n",
       "      <td>5.000000</td>\n",
       "      <td>58.797500</td>\n",
       "      <td>0.0</td>\n",
       "      <td>5.577838</td>\n",
       "      <td>4.543034</td>\n",
       "      <td>0.808309</td>\n",
       "      <td>2.317412</td>\n",
       "      <td>1.400000</td>\n",
       "    </tr>\n",
       "    <tr>\n",
       "      <th>max</th>\n",
       "      <td>9.853600e+07</td>\n",
       "      <td>119.970162</td>\n",
       "      <td>3.292729</td>\n",
       "      <td>13.000000</td>\n",
       "      <td>451.850000</td>\n",
       "      <td>0.0</td>\n",
       "      <td>18.796185</td>\n",
       "      <td>16.134143</td>\n",
       "      <td>11.307665</td>\n",
       "      <td>14.644185</td>\n",
       "      <td>1.500000</td>\n",
       "    </tr>\n",
       "  </tbody>\n",
       "</table>\n",
       "</div>"
      ],
      "text/plain": [
       "           chavesig          tch   ndvi_a_p05       ncorte     areaesti  \\\n",
       "count  4.000000e+03  4000.000000  4000.000000  4000.000000  4000.000000   \n",
       "mean   4.603402e+07    76.766524     0.707713     4.019598    44.183920   \n",
       "std    3.346564e+07    21.994172     0.082000     2.170227    52.875883   \n",
       "min    1.051000e+03     2.097543     0.262528     1.000000     0.300000   \n",
       "25%    1.016225e+07    60.986837     0.674050     2.277235     9.520000   \n",
       "50%    3.933800e+07    77.182640     0.717415     4.000000    22.720000   \n",
       "75%    7.916925e+07    93.434802     0.752924     5.000000    58.797500   \n",
       "max    9.853600e+07   119.970162     3.292729    13.000000   451.850000   \n",
       "\n",
       "       linhas_falha_km  chuva_dia_p04  chuva_dia_p12  bal_hidrico_p12  \\\n",
       "count           4000.0    4000.000000    4000.000000      4000.000000   \n",
       "mean               0.0       3.707148       3.001388        -0.597152   \n",
       "std                0.0       3.141279       2.527869         2.497518   \n",
       "min                0.0       0.000000       0.000000        -6.198276   \n",
       "25%                0.0       1.151477       0.954489        -2.354757   \n",
       "50%                0.0       2.877009       2.459106        -0.994824   \n",
       "75%                0.0       5.577838       4.543034         0.808309   \n",
       "max                0.0      18.796185      16.134143        11.307665   \n",
       "\n",
       "       bal_hidrico_p04  espacamento_m  \n",
       "count      4000.000000    4000.000000  \n",
       "mean          0.500719       1.351093  \n",
       "std           2.977927       0.109831  \n",
       "min          -5.184543       1.000000  \n",
       "25%          -1.744098       1.300000  \n",
       "50%          -0.188504       1.400000  \n",
       "75%           2.317412       1.400000  \n",
       "max          14.644185       1.500000  "
      ]
     },
     "execution_count": 5,
     "metadata": {},
     "output_type": "execute_result"
    }
   ],
   "source": [
    "#descreve meus dados atraves de metricas\n",
    "base.describe()"
   ]
  },
  {
   "cell_type": "code",
   "execution_count": 6,
   "metadata": {},
   "outputs": [
    {
     "data": {
      "text/plain": [
       "Index([u'chavesig', u'tch', u'ndvi_a_p05', u'ncorte', u'areaesti',\n",
       "       u'linhas_falha_km', u'chuva_dia_p04', u'chuva_dia_p12',\n",
       "       u'bal_hidrico_p12', u'bal_hidrico_p04', u'espacamento_m'],\n",
       "      dtype='object')"
      ]
     },
     "execution_count": 6,
     "metadata": {},
     "output_type": "execute_result"
    }
   ],
   "source": [
    "#Lista com as colunas do dataset\n",
    "base.columns"
   ]
  },
  {
   "cell_type": "markdown",
   "metadata": {},
   "source": [
    "## Utilizando o método Regressão Múltipla\n"
   ]
  },
  {
   "cell_type": "markdown",
   "metadata": {},
   "source": [
    "### Selecionando apenas as colunas necessárias do dataset"
   ]
  },
  {
   "cell_type": "code",
   "execution_count": 7,
   "metadata": {},
   "outputs": [],
   "source": [
    "colunas = ['tch','ndvi_a_p05', 'ncorte', 'areaesti','linhas_falha_km', 'chuva_dia_p04', 'chuva_dia_p12',\n",
    "       'bal_hidrico_p12', 'bal_hidrico_p04', 'espacamento_m']"
   ]
  },
  {
   "cell_type": "markdown",
   "metadata": {},
   "source": [
    "### Selecionando as variáveis independentes X"
   ]
  },
  {
   "cell_type": "code",
   "execution_count": 8,
   "metadata": {},
   "outputs": [],
   "source": [
    "colunas_x = ['ndvi_a_p05', 'ncorte', 'areaesti','linhas_falha_km', 'chuva_dia_p04', 'chuva_dia_p12',\n",
    "       'bal_hidrico_p12', 'bal_hidrico_p04', 'espacamento_m']"
   ]
  },
  {
   "cell_type": "code",
   "execution_count": 9,
   "metadata": {},
   "outputs": [],
   "source": [
    "# Chamando o arquivo csv apenas com as colunas necessarias\n",
    "base = pd.read_csv('sample_train_dataset_tch_pred.csv', usecols = colunas)\n"
   ]
  },
  {
   "cell_type": "markdown",
   "metadata": {},
   "source": [
    "### Normalizando os dados(alterando os dados para uma escala comum)"
   ]
  },
  {
   "cell_type": "markdown",
   "metadata": {},
   "source": [
    "* Esse estimador dimensiona e traduz cada recurso individualmente, de modo que esteja no intervalo especificado no conjunto de treinamento, por exemplo, entre zero e um.\n",
    "\n",
    "***Objetivo:*** Normalizar os valores da coluna numerica do conjunto de dados para uma escala comum\n",
    "\n"
   ]
  },
  {
   "cell_type": "code",
   "execution_count": 10,
   "metadata": {},
   "outputs": [],
   "source": [
    "#importando biblioteca para normalizar os dados\n",
    "from sklearn.preprocessing import MinMaxScaler"
   ]
  },
  {
   "cell_type": "code",
   "execution_count": 11,
   "metadata": {},
   "outputs": [],
   "source": [
    "# Normalizando os dados para as variaveis indepedentes\n",
    "x_scal = MinMaxScaler()\n",
    "base[['ndvi_a_p05', 'ncorte', 'areaesti','linhas_falha_km', 'chuva_dia_p04', 'chuva_dia_p12',\n",
    "       'bal_hidrico_p12', 'bal_hidrico_p04', 'espacamento_m']] = x_scal.fit_transform(base[['ndvi_a_p05', 'ncorte', 'areaesti','linhas_falha_km', 'chuva_dia_p04', 'chuva_dia_p12',\n",
    "       'bal_hidrico_p12', 'bal_hidrico_p04', 'espacamento_m']])"
   ]
  },
  {
   "cell_type": "code",
   "execution_count": 12,
   "metadata": {},
   "outputs": [],
   "source": [
    "# Normalizando as variaveis para y\n",
    "y_scal = MinMaxScaler()\n",
    "base[['tch']] = y_scal.fit_transform(base[['tch']])\n"
   ]
  },
  {
   "cell_type": "code",
   "execution_count": 13,
   "metadata": {},
   "outputs": [],
   "source": [
    "# y recebendo a variavel depedente tch\n",
    "y = base['tch']"
   ]
  },
  {
   "cell_type": "code",
   "execution_count": 14,
   "metadata": {},
   "outputs": [],
   "source": [
    "# x recebendo a lista com as variaveis indepedentes de x\n",
    "x = base.drop('tch', axis = 1)"
   ]
  },
  {
   "cell_type": "markdown",
   "metadata": {},
   "source": [
    "### Dividindo os dados"
   ]
  },
  {
   "cell_type": "code",
   "execution_count": 15,
   "metadata": {},
   "outputs": [],
   "source": [
    "#featues colunas\n",
    "import tensorflow as tf\n",
    "tf.logging.set_verbosity(tf.logging.ERROR)\n",
    "colunas_x = [tf.feature_column.numeric_column(key = c) for c in colunas_x]"
   ]
  },
  {
   "cell_type": "code",
   "execution_count": 16,
   "metadata": {},
   "outputs": [],
   "source": [
    "#Dividindo a base de dados em teste e train para o modelo\n",
    "from sklearn.model_selection import train_test_split\n",
    "x_treinamento, x_teste, y_treinamento, y_teste = train_test_split(x,y, test_size = 0.3)"
   ]
  },
  {
   "cell_type": "markdown",
   "metadata": {},
   "source": [
    "### Definido função para treinamento"
   ]
  },
  {
   "cell_type": "code",
   "execution_count": 17,
   "metadata": {},
   "outputs": [],
   "source": [
    "# Function train\n",
    "function_treinamento = tf.estimator.inputs.pandas_input_fn(x = x_treinamento, y = y_treinamento, batch_size = 8, num_epochs = None, shuffle=True)"
   ]
  },
  {
   "cell_type": "markdown",
   "metadata": {},
   "source": [
    "### Definindo função para teste"
   ]
  },
  {
   "cell_type": "code",
   "execution_count": 18,
   "metadata": {},
   "outputs": [],
   "source": [
    "# Function test\n",
    "function_teste = tf.estimator.inputs.pandas_input_fn(x = x_teste, y = y_teste, batch_size = 8, num_epochs=1000, shuffle=False)"
   ]
  },
  {
   "cell_type": "markdown",
   "metadata": {},
   "source": [
    "# Criando a função de regressão"
   ]
  },
  {
   "cell_type": "code",
   "execution_count": 19,
   "metadata": {},
   "outputs": [],
   "source": [
    "# Criando modelo de regressao\n",
    "regressor = tf.estimator.LinearRegressor(feature_columns=colunas_x)\n"
   ]
  },
  {
   "cell_type": "markdown",
   "metadata": {},
   "source": [
    "### Fazendo treinamento"
   ]
  },
  {
   "cell_type": "code",
   "execution_count": 20,
   "metadata": {},
   "outputs": [
    {
     "data": {
      "text/plain": [
       "<tensorflow.python.estimator.canned.linear.LinearRegressor at 0x7f91a8d34910>"
      ]
     },
     "execution_count": 20,
     "metadata": {},
     "output_type": "execute_result"
    }
   ],
   "source": [
    "# training model, objetivo loss fuction diminua\n",
    "regressor.train(input_fn=function_treinamento, steps = 10000)"
   ]
  },
  {
   "cell_type": "markdown",
   "metadata": {},
   "source": [
    "### Metricas do treinamento"
   ]
  },
  {
   "cell_type": "code",
   "execution_count": 21,
   "metadata": {},
   "outputs": [],
   "source": [
    "# Metricas de treinamento\n",
    "metricas_treinamento = regressor.evaluate(input_fn=function_treinamento,steps=10000)"
   ]
  },
  {
   "cell_type": "markdown",
   "metadata": {},
   "source": [
    "### Metricas Teste"
   ]
  },
  {
   "cell_type": "code",
   "execution_count": 22,
   "metadata": {},
   "outputs": [],
   "source": [
    "# Testando modelo com as variaveis x_teste e y_teste\n",
    "metricas_teste = regressor.evaluate(input_fn=function_teste,steps=10000)"
   ]
  },
  {
   "cell_type": "code",
   "execution_count": 23,
   "metadata": {},
   "outputs": [
    {
     "data": {
      "text/plain": [
       "{'average_loss': 0.029777847, 'global_step': 10000, 'loss': 0.23822278}"
      ]
     },
     "execution_count": 23,
     "metadata": {},
     "output_type": "execute_result"
    }
   ],
   "source": [
    "# Apresentando metricas do treinamento\n",
    "metricas_treinamento"
   ]
  },
  {
   "cell_type": "code",
   "execution_count": 24,
   "metadata": {},
   "outputs": [
    {
     "data": {
      "text/plain": [
       "{'average_loss': 0.029339535, 'global_step': 10000, 'loss': 0.23471628}"
      ]
     },
     "execution_count": 24,
     "metadata": {},
     "output_type": "execute_result"
    }
   ],
   "source": [
    "# Apresentando metricas do teste\n",
    "metricas_teste"
   ]
  },
  {
   "cell_type": "markdown",
   "metadata": {},
   "source": [
    "### Função Previsão"
   ]
  },
  {
   "cell_type": "code",
   "execution_count": 25,
   "metadata": {},
   "outputs": [],
   "source": [
    "# Criando a função para fazer a previsao\n",
    "funcao_previsao = tf.estimator.inputs.pandas_input_fn(x = x_teste,shuffle=True)"
   ]
  },
  {
   "cell_type": "code",
   "execution_count": 26,
   "metadata": {},
   "outputs": [],
   "source": [
    "# Executando a previsao\n",
    "previsao = regressor.predict(input_fn=funcao_previsao)\n",
    "# Visualizando os resultados previstos\n",
    "#list(previsao)"
   ]
  },
  {
   "cell_type": "markdown",
   "metadata": {},
   "source": [
    "### Visualizando os pesos dos estimadores de parâmetros com tensorflow\n",
    "* Os estimadores de parâmetros(pesos) são utilizados para estimar a reta da regressão multípla, através deste parâmetros conseguimos estimar a reta para então utiliza-los para prever(variaveis depedentes) novos pontos(variaveis indepedentes)."
   ]
  },
  {
   "cell_type": "code",
   "execution_count": 27,
   "metadata": {},
   "outputs": [],
   "source": [
    "#regressor.get_variable_names()\n",
    "#print(regressor.get_variable_value('linear/linear_model/areaesti/weights'))\n"
   ]
  },
  {
   "cell_type": "markdown",
   "metadata": {},
   "source": [
    "### Inserindo os predicts em uma lista"
   ]
  },
  {
   "cell_type": "code",
   "execution_count": 28,
   "metadata": {},
   "outputs": [],
   "source": [
    "# Colocando as predicts numa lista\n",
    "val_predict =[]\n",
    "for p in regressor.predict(input_fn=funcao_previsao):\n",
    "    val_predict.append(p['predictions'])"
   ]
  },
  {
   "cell_type": "markdown",
   "metadata": {},
   "source": [
    "### Preparando os dados para visualização"
   ]
  },
  {
   "cell_type": "code",
   "execution_count": 29,
   "metadata": {},
   "outputs": [],
   "source": [
    "# Voltando para os dados sem escalonamento, utilizando função inversa \n",
    "# Inversa transformação para predict\n",
    "pr = y_scal.inverse_transform(val_predict)"
   ]
  },
  {
   "cell_type": "code",
   "execution_count": 30,
   "metadata": {},
   "outputs": [],
   "source": [
    "# Convertendo do formato Series para um array\n",
    "# Onde (-1,1), -1 significa para as linhas permanecerem e 1 para uma coluna\n",
    "y_tes = y_teste.values.reshape(-1,1)\n",
    "\n",
    "# Inversa transformação para predict\n",
    "y_t = y_scal.inverse_transform(y_tes)"
   ]
  },
  {
   "cell_type": "code",
   "execution_count": 31,
   "metadata": {},
   "outputs": [],
   "source": [
    "# Visualizando os dados para predict\n",
    "len(val_predict)#list\n",
    "\n",
    "import numpy as np \n",
    "# Convertendo do formato Series para um array\n",
    "# Onde (-1,1), -1 significa para as linhas permanecerem e 1 para uma coluna\n",
    "val_predict = np.array(val_predict).reshape(-1,1)"
   ]
  },
  {
   "cell_type": "markdown",
   "metadata": {},
   "source": [
    "### Visualizando o erro por mae(mean absolute error)"
   ]
  },
  {
   "cell_type": "code",
   "execution_count": 32,
   "metadata": {},
   "outputs": [],
   "source": [
    "# Utilizando mean absolute error para calcular o erro entre y_teste e o predict\n",
    "from sklearn.metrics import mean_absolute_error\n",
    "mae = mean_absolute_error(y_t,pr)"
   ]
  },
  {
   "cell_type": "code",
   "execution_count": 33,
   "metadata": {},
   "outputs": [
    {
     "data": {
      "text/plain": [
       "19.467031147030234"
      ]
     },
     "execution_count": 33,
     "metadata": {},
     "output_type": "execute_result"
    }
   ],
   "source": [
    "#Visualizando mae\n",
    "mae"
   ]
  },
  {
   "cell_type": "markdown",
   "metadata": {},
   "source": [
    "### Plotando o gráfico de y_teste e predict"
   ]
  },
  {
   "cell_type": "code",
   "execution_count": 34,
   "metadata": {},
   "outputs": [
    {
     "data": {
      "image/png": "[encoded data removed]",
      "text/plain": [
       "<Figure size 432x288 with 1 Axes>"
      ]
     },
     "metadata": {
      "needs_background": "light"
     },
     "output_type": "display_data"
    }
   ],
   "source": [
    "#plotando gráfico de y_teste e predict\n",
    "plt.plot(y_t, 'o')\n",
    "plt.plot(pr, '*', color = 'red')\n",
    "plt.show()"
   ]
  },
  {
   "cell_type": "code",
   "execution_count": null,
   "metadata": {},
   "outputs": [],
   "source": []
  }
 ],
 "metadata": {
  "kernelspec": {
   "display_name": "Python 2",
   "language": "python",
   "name": "python2"
  },
  "language_info": {
   "codemirror_mode": {
    "name": "ipython",
    "version": 2
   },
   "file_extension": ".py",
   "mimetype": "text/x-python",
   "name": "python",
   "nbconvert_exporter": "python",
   "pygments_lexer": "ipython2",
   "version": "2.7.15rc1"
  }
 },
 "nbformat": 4,
 "nbformat_minor": 2
}
