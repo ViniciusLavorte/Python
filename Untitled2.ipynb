{
 "cells": [
  {
   "cell_type": "code",
   "execution_count": 6,
   "metadata": {},
   "outputs": [
    {
     "ename": "ImportError",
     "evalue": "No module named torch",
     "output_type": "error",
     "traceback": [
      "\u001b[0;31m---------------------------------------------------------------------------\u001b[0m",
      "\u001b[0;31mImportError\u001b[0m                               Traceback (most recent call last)",
      "\u001b[0;32m<ipython-input-6-a817b47412dd>\u001b[0m in \u001b[0;36m<module>\u001b[0;34m()\u001b[0m\n\u001b[1;32m      2\u001b[0m \u001b[0;32mfrom\u001b[0m \u001b[0mPIL\u001b[0m \u001b[0;32mimport\u001b[0m \u001b[0mImage\u001b[0m\u001b[0;34m\u001b[0m\u001b[0m\n\u001b[1;32m      3\u001b[0m \u001b[0;34m\u001b[0m\u001b[0m\n\u001b[0;32m----> 4\u001b[0;31m \u001b[0;32mimport\u001b[0m \u001b[0mtorch\u001b[0m\u001b[0;34m\u001b[0m\u001b[0m\n\u001b[0m\u001b[1;32m      5\u001b[0m \u001b[0;32mfrom\u001b[0m \u001b[0mtorchvision\u001b[0m \u001b[0;32mimport\u001b[0m \u001b[0mtransforms\u001b[0m\u001b[0;34m\u001b[0m\u001b[0m\n\u001b[1;32m      6\u001b[0m \u001b[0;34m\u001b[0m\u001b[0m\n",
      "\u001b[0;31mImportError\u001b[0m: No module named torch"
     ]
    }
   ],
   "source": [
    "import json\n",
    "from PIL import Image\n",
    "\n",
    "import torch\n",
    "from torchvision import transforms\n",
    "\n",
    "from efficientnet_pytorch import EfficientNet"
   ]
  },
  {
   "cell_type": "code",
   "execution_count": null,
   "metadata": {},
   "outputs": [
    {
     "name": "stdout",
     "output_type": "stream",
     "text": [
      "Solving environment: done\n",
      "\n",
      "\n",
      "==> WARNING: A newer version of conda exists. <==\n",
      "  current version: 4.5.12\n",
      "  latest version: 4.8.3\n",
      "\n",
      "Please update conda by running\n",
      "\n",
      "    $ conda update -n base -c defaults conda\n",
      "\n",
      "\n",
      "\n",
      "## Package Plan ##\n",
      "\n",
      "  environment location: /home/vinicius/anaconda3\n",
      "\n",
      "  added / updated specs: \n",
      "    - pytorch\n",
      "\n",
      "\n",
      "The following packages will be downloaded:\n",
      "\n",
      "    package                    |            build\n",
      "    ---------------------------|-----------------\n",
      "    cudatoolkit-10.2.89        |       hfd86e86_1       540.0 MB\n",
      "    ca-certificates-2020.6.24  |                0         133 KB\n",
      "    tk-8.6.10                  |       hbc83047_0         3.2 MB\n",
      "    openssl-1.1.1g             |       h7b6447c_0         3.8 MB\n",
      "    numpy-base-1.16.2          |   py37hde5b4d6_0         4.3 MB\n",
      "    xz-5.2.5                   |       h7b6447c_0         438 KB\n",
      "    pip-20.1.1                 |           py37_1         2.0 MB\n",
      "    libedit-3.1.20191231       |       h14c3975_1         121 KB\n",
      "    certifi-2020.6.20          |           py37_0         159 KB\n",
      "    readline-8.0               |       h7b6447c_0         428 KB\n",
      "    setuptools-49.2.0          |           py37_0         944 KB\n",
      "    numpy-1.16.2               |   py37h7e9f1db_0          49 KB\n",
      "    ncurses-6.2                |       he6710b0_1         1.1 MB\n",
      "    libffi-3.3                 |       he6710b0_2          54 KB\n",
      "    sqlite-3.32.3              |       h62c20be_0         2.0 MB\n",
      "    pytorch-1.5.1              |py3.7_cuda10.2.89_cudnn7.6.5_0       424.3 MB  pytorch\n",
      "    mkl_fft-1.0.10             |   py37ha843d7b_0         169 KB\n",
      "    ninja-1.9.0                |   py37hfd86e86_0         1.6 MB\n",
      "    wheel-0.34.2               |           py37_0          49 KB\n",
      "    python-3.7.7               |       hcff3b4d_5        52.6 MB\n",
      "    ------------------------------------------------------------\n",
      "                                           Total:        1.01 GB\n",
      "\n",
      "The following NEW packages will be INSTALLED:\n",
      "\n",
      "    _libgcc_mutex:    0.1-main                                    \n",
      "    cudatoolkit:      10.2.89-hfd86e86_1                          \n",
      "    ld_impl_linux-64: 2.33.1-h53a641e_7                           \n",
      "    ninja:            1.9.0-py37hfd86e86_0                        \n",
      "    pytorch:          1.5.1-py3.7_cuda10.2.89_cudnn7.6.5_0 pytorch\n",
      "\n",
      "The following packages will be UPDATED:\n",
      "\n",
      "    ca-certificates:  2018.03.07-0                                 --> 2020.6.24-0            \n",
      "    certifi:          2018.11.29-py37_0                            --> 2020.6.20-py37_0       \n",
      "    libedit:          3.1.20170329-h6b74fdf_2                      --> 3.1.20191231-h14c3975_1\n",
      "    libffi:           3.2.1-hd88cf55_4                             --> 3.3-he6710b0_2         \n",
      "    libgcc-ng:        8.2.0-hdf63c60_1                             --> 9.1.0-hdf63c60_0       \n",
      "    mkl_fft:          1.0.6-py37hd81dba3_0                         --> 1.0.10-py37ha843d7b_0  \n",
      "    ncurses:          6.1-he6710b0_1                               --> 6.2-he6710b0_1         \n",
      "    numpy:            1.15.4-py37h7e9f1db_0                        --> 1.16.2-py37h7e9f1db_0  \n",
      "    numpy-base:       1.15.4-py37hde5b4d6_0                        --> 1.16.2-py37hde5b4d6_0  \n",
      "    openssl:          1.1.1a-h7b6447c_0                            --> 1.1.1g-h7b6447c_0      \n",
      "    pip:              18.1-py37_0                                  --> 20.1.1-py37_1          \n",
      "    python:           3.7.1-h0371630_7                             --> 3.7.7-hcff3b4d_5       \n",
      "    readline:         7.0-h7b6447c_5                               --> 8.0-h7b6447c_0         \n",
      "    setuptools:       40.6.3-py37_0                                --> 49.2.0-py37_0          \n",
      "    sqlite:           3.26.0-h7b6447c_0                            --> 3.32.3-h62c20be_0      \n",
      "    tk:               8.6.8-hbc83047_0                             --> 8.6.10-hbc83047_0      \n",
      "    wheel:            0.32.3-py37_0                                --> 0.34.2-py37_0          \n",
      "    xz:               5.2.4-h14c3975_4                             --> 5.2.5-h7b6447c_0       \n",
      "\n",
      "Proceed ([y]/n)? "
     ]
    }
   ],
   "source": [
    "!conda install -c pytorch pytorch "
   ]
  }
 ],
 "metadata": {
  "kernelspec": {
   "display_name": "Python 2",
   "language": "python",
   "name": "python2"
  },
  "language_info": {
   "codemirror_mode": {
    "name": "ipython",
    "version": 2
   },
   "file_extension": ".py",
   "mimetype": "text/x-python",
   "name": "python",
   "nbconvert_exporter": "python",
   "pygments_lexer": "ipython2",
   "version": "2.7.15rc1"
  }
 },
 "nbformat": 4,
 "nbformat_minor": 2
}
